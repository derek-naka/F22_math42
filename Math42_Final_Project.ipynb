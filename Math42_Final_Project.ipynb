{
 "cells": [
  {
   "cell_type": "markdown",
   "id": "40456a94-07cc-436a-8d59-616c3fa316e5",
   "metadata": {},
   "source": [
    "# Math 42 Final Project\n",
    "Finding out if there is a correlation between the amount of money the team has vs. the number of wins over the regular season.\n",
    "\n",
    "There are 82 Regular Season games and success is determined by number of wins\n",
    "\n",
    "Money is going to be compared by the payroll of the players & networth of the team"
   ]
  },
  {
   "cell_type": "code",
   "execution_count": 2,
   "id": "90d27305-94bb-4567-8336-a36a5b1fe445",
   "metadata": {},
   "outputs": [],
   "source": [
    "import numpy as np\n",
    "import pandas as pd\n",
    "import matplotlib.pyplot as plt\n",
    "import seaborn as sns\n",
    "import math"
   ]
  },
  {
   "cell_type": "code",
   "execution_count": 3,
   "id": "e54f12b4-141f-4b85-a977-1252847f9156",
   "metadata": {},
   "outputs": [],
   "source": [
    "individual_salaries = pd.read_csv(\"team_salaries.csv\")\n",
    "all_team_stats = pd.read_csv(\"team_stats.csv\")"
   ]
  },
  {
   "cell_type": "markdown",
   "id": "0ce1b904-75f4-44a8-ad13-e0680f0d09a7",
   "metadata": {},
   "source": [
    "# Data Cleaning"
   ]
  },
  {
   "cell_type": "markdown",
   "id": "2397d53a-6456-4d9d-a149-86941f6f18f7",
   "metadata": {},
   "source": [
    "## Groupby team_salaries Data"
   ]
  },
  {
   "cell_type": "code",
   "execution_count": 148,
   "id": "091b39b5-954b-4c9e-8a4a-37a2444d0ece",
   "metadata": {},
   "outputs": [
    {
     "data": {
      "text/html": [
       "<div>\n",
       "<style scoped>\n",
       "    .dataframe tbody tr th:only-of-type {\n",
       "        vertical-align: middle;\n",
       "    }\n",
       "\n",
       "    .dataframe tbody tr th {\n",
       "        vertical-align: top;\n",
       "    }\n",
       "\n",
       "    .dataframe thead th {\n",
       "        text-align: right;\n",
       "    }\n",
       "</style>\n",
       "<table border=\"1\" class=\"dataframe\">\n",
       "  <thead>\n",
       "    <tr style=\"text-align: right;\">\n",
       "      <th></th>\n",
       "      <th>season</th>\n",
       "      <th>lg</th>\n",
       "      <th>team</th>\n",
       "      <th>abbreviation</th>\n",
       "      <th>playoffs</th>\n",
       "      <th>age</th>\n",
       "      <th>w</th>\n",
       "      <th>l</th>\n",
       "      <th>pw</th>\n",
       "      <th>pl</th>\n",
       "      <th>...</th>\n",
       "      <th>tov_percent</th>\n",
       "      <th>orb_percent</th>\n",
       "      <th>ft_fga</th>\n",
       "      <th>opp_e_fg_percent</th>\n",
       "      <th>opp_tov_percent</th>\n",
       "      <th>opp_drb_percent</th>\n",
       "      <th>opp_ft_fga</th>\n",
       "      <th>arena</th>\n",
       "      <th>attend</th>\n",
       "      <th>attend_g</th>\n",
       "    </tr>\n",
       "  </thead>\n",
       "  <tbody>\n",
       "    <tr>\n",
       "      <th>0</th>\n",
       "      <td>2023</td>\n",
       "      <td>NBA</td>\n",
       "      <td>Atlanta Hawks</td>\n",
       "      <td>ATL</td>\n",
       "      <td>False</td>\n",
       "      <td>25.5</td>\n",
       "      <td>4.0</td>\n",
       "      <td>3.0</td>\n",
       "      <td>3.0</td>\n",
       "      <td>4.0</td>\n",
       "      <td>...</td>\n",
       "      <td>11.1</td>\n",
       "      <td>22.4</td>\n",
       "      <td>0.194</td>\n",
       "      <td>0.525</td>\n",
       "      <td>11.5</td>\n",
       "      <td>72.2</td>\n",
       "      <td>0.250</td>\n",
       "      <td>State Farm Arena</td>\n",
       "      <td>53083.0</td>\n",
       "      <td>17694.0</td>\n",
       "    </tr>\n",
       "    <tr>\n",
       "      <th>1</th>\n",
       "      <td>2023</td>\n",
       "      <td>NBA</td>\n",
       "      <td>Boston Celtics</td>\n",
       "      <td>BOS</td>\n",
       "      <td>False</td>\n",
       "      <td>27.6</td>\n",
       "      <td>4.0</td>\n",
       "      <td>2.0</td>\n",
       "      <td>3.0</td>\n",
       "      <td>3.0</td>\n",
       "      <td>...</td>\n",
       "      <td>12.7</td>\n",
       "      <td>19.1</td>\n",
       "      <td>0.226</td>\n",
       "      <td>0.532</td>\n",
       "      <td>10.8</td>\n",
       "      <td>74.9</td>\n",
       "      <td>0.212</td>\n",
       "      <td>TD Garden</td>\n",
       "      <td>57468.0</td>\n",
       "      <td>19156.0</td>\n",
       "    </tr>\n",
       "    <tr>\n",
       "      <th>2</th>\n",
       "      <td>2023</td>\n",
       "      <td>NBA</td>\n",
       "      <td>Brooklyn Nets</td>\n",
       "      <td>BRK</td>\n",
       "      <td>False</td>\n",
       "      <td>28.8</td>\n",
       "      <td>2.0</td>\n",
       "      <td>5.0</td>\n",
       "      <td>2.0</td>\n",
       "      <td>5.0</td>\n",
       "      <td>...</td>\n",
       "      <td>12.6</td>\n",
       "      <td>21.3</td>\n",
       "      <td>0.250</td>\n",
       "      <td>0.556</td>\n",
       "      <td>13.4</td>\n",
       "      <td>70.2</td>\n",
       "      <td>0.224</td>\n",
       "      <td>Barclays Center</td>\n",
       "      <td>87276.0</td>\n",
       "      <td>17455.0</td>\n",
       "    </tr>\n",
       "    <tr>\n",
       "      <th>3</th>\n",
       "      <td>2023</td>\n",
       "      <td>NBA</td>\n",
       "      <td>Chicago Bulls</td>\n",
       "      <td>CHI</td>\n",
       "      <td>False</td>\n",
       "      <td>28.0</td>\n",
       "      <td>3.0</td>\n",
       "      <td>4.0</td>\n",
       "      <td>3.0</td>\n",
       "      <td>4.0</td>\n",
       "      <td>...</td>\n",
       "      <td>12.7</td>\n",
       "      <td>24.6</td>\n",
       "      <td>0.269</td>\n",
       "      <td>0.564</td>\n",
       "      <td>15.9</td>\n",
       "      <td>79.9</td>\n",
       "      <td>0.201</td>\n",
       "      <td>United Center</td>\n",
       "      <td>76078.0</td>\n",
       "      <td>19020.0</td>\n",
       "    </tr>\n",
       "    <tr>\n",
       "      <th>4</th>\n",
       "      <td>2023</td>\n",
       "      <td>NBA</td>\n",
       "      <td>Charlotte Hornets</td>\n",
       "      <td>CHO</td>\n",
       "      <td>False</td>\n",
       "      <td>26.2</td>\n",
       "      <td>3.0</td>\n",
       "      <td>4.0</td>\n",
       "      <td>4.0</td>\n",
       "      <td>3.0</td>\n",
       "      <td>...</td>\n",
       "      <td>12.5</td>\n",
       "      <td>24.4</td>\n",
       "      <td>0.184</td>\n",
       "      <td>0.512</td>\n",
       "      <td>12.1</td>\n",
       "      <td>74.8</td>\n",
       "      <td>0.222</td>\n",
       "      <td>Spectrum Center</td>\n",
       "      <td>50386.0</td>\n",
       "      <td>16795.0</td>\n",
       "    </tr>\n",
       "  </tbody>\n",
       "</table>\n",
       "<p>5 rows × 31 columns</p>\n",
       "</div>"
      ],
      "text/plain": [
       "   season   lg               team abbreviation  playoffs   age    w    l   pw  \\\n",
       "0    2023  NBA      Atlanta Hawks          ATL     False  25.5  4.0  3.0  3.0   \n",
       "1    2023  NBA     Boston Celtics          BOS     False  27.6  4.0  2.0  3.0   \n",
       "2    2023  NBA      Brooklyn Nets          BRK     False  28.8  2.0  5.0  2.0   \n",
       "3    2023  NBA      Chicago Bulls          CHI     False  28.0  3.0  4.0  3.0   \n",
       "4    2023  NBA  Charlotte Hornets          CHO     False  26.2  3.0  4.0  4.0   \n",
       "\n",
       "    pl  ...  tov_percent  orb_percent  ft_fga  opp_e_fg_percent  \\\n",
       "0  4.0  ...         11.1         22.4   0.194             0.525   \n",
       "1  3.0  ...         12.7         19.1   0.226             0.532   \n",
       "2  5.0  ...         12.6         21.3   0.250             0.556   \n",
       "3  4.0  ...         12.7         24.6   0.269             0.564   \n",
       "4  3.0  ...         12.5         24.4   0.184             0.512   \n",
       "\n",
       "   opp_tov_percent  opp_drb_percent  opp_ft_fga             arena   attend  \\\n",
       "0             11.5             72.2       0.250  State Farm Arena  53083.0   \n",
       "1             10.8             74.9       0.212         TD Garden  57468.0   \n",
       "2             13.4             70.2       0.224   Barclays Center  87276.0   \n",
       "3             15.9             79.9       0.201     United Center  76078.0   \n",
       "4             12.1             74.8       0.222   Spectrum Center  50386.0   \n",
       "\n",
       "   attend_g  \n",
       "0   17694.0  \n",
       "1   19156.0  \n",
       "2   17455.0  \n",
       "3   19020.0  \n",
       "4   16795.0  \n",
       "\n",
       "[5 rows x 31 columns]"
      ]
     },
     "execution_count": 148,
     "metadata": {},
     "output_type": "execute_result"
    }
   ],
   "source": [
    "team_salaries = individual_salaries.groupby(\"TEAM-SEASON\").agg({\"Salary\" : [\"sum\", \"mean\", \"median\", \"std\"]})\n",
    "team_salaries.columns = [\"Total_Salary\", \"Mean_Salary\", \"Median_Salary\", \"STD_Salary\"]\n",
    "team_salaries = team_salaries.reset_index()\n",
    "team_salaries.columns = [\"Team_Season\", \"Total_Salary\", \"Mean_Salary\", \"Median_Salary\", \"STD_Salary\"]\n",
    "team_salaries.head()"
   ]
  },
  {
   "cell_type": "markdown",
   "id": "c8966216-5150-4d0f-a6ee-a02c2fcad30f",
   "metadata": {},
   "source": [
    "## Add Team_season variable to team_stats"
   ]
  },
  {
   "cell_type": "code",
   "execution_count": 5,
   "id": "d661b7be-4c47-4cea-861f-eb1579146556",
   "metadata": {},
   "outputs": [
    {
     "data": {
      "text/html": [
       "<div>\n",
       "<style scoped>\n",
       "    .dataframe tbody tr th:only-of-type {\n",
       "        vertical-align: middle;\n",
       "    }\n",
       "\n",
       "    .dataframe tbody tr th {\n",
       "        vertical-align: top;\n",
       "    }\n",
       "\n",
       "    .dataframe thead th {\n",
       "        text-align: right;\n",
       "    }\n",
       "</style>\n",
       "<table border=\"1\" class=\"dataframe\">\n",
       "  <thead>\n",
       "    <tr style=\"text-align: right;\">\n",
       "      <th></th>\n",
       "      <th>team</th>\n",
       "      <th>season</th>\n",
       "      <th>abbreviation</th>\n",
       "      <th>w</th>\n",
       "      <th>playoffs</th>\n",
       "      <th>Team_Season</th>\n",
       "    </tr>\n",
       "  </thead>\n",
       "  <tbody>\n",
       "    <tr>\n",
       "      <th>124</th>\n",
       "      <td>Atlanta Hawks</td>\n",
       "      <td>2019</td>\n",
       "      <td>ATL</td>\n",
       "      <td>29.0</td>\n",
       "      <td>False</td>\n",
       "      <td>ATL-2019</td>\n",
       "    </tr>\n",
       "    <tr>\n",
       "      <th>125</th>\n",
       "      <td>Boston Celtics</td>\n",
       "      <td>2019</td>\n",
       "      <td>BOS</td>\n",
       "      <td>49.0</td>\n",
       "      <td>True</td>\n",
       "      <td>BOS-2019</td>\n",
       "    </tr>\n",
       "    <tr>\n",
       "      <th>126</th>\n",
       "      <td>Brooklyn Nets</td>\n",
       "      <td>2019</td>\n",
       "      <td>BRK</td>\n",
       "      <td>42.0</td>\n",
       "      <td>True</td>\n",
       "      <td>BRK-2019</td>\n",
       "    </tr>\n",
       "    <tr>\n",
       "      <th>127</th>\n",
       "      <td>Chicago Bulls</td>\n",
       "      <td>2019</td>\n",
       "      <td>CHI</td>\n",
       "      <td>22.0</td>\n",
       "      <td>False</td>\n",
       "      <td>CHI-2019</td>\n",
       "    </tr>\n",
       "    <tr>\n",
       "      <th>128</th>\n",
       "      <td>Charlotte Hornets</td>\n",
       "      <td>2019</td>\n",
       "      <td>CHO</td>\n",
       "      <td>39.0</td>\n",
       "      <td>False</td>\n",
       "      <td>CHO-2019</td>\n",
       "    </tr>\n",
       "  </tbody>\n",
       "</table>\n",
       "</div>"
      ],
      "text/plain": [
       "                  team  season abbreviation     w  playoffs Team_Season\n",
       "124      Atlanta Hawks    2019          ATL  29.0     False    ATL-2019\n",
       "125     Boston Celtics    2019          BOS  49.0      True    BOS-2019\n",
       "126      Brooklyn Nets    2019          BRK  42.0      True    BRK-2019\n",
       "127      Chicago Bulls    2019          CHI  22.0     False    CHI-2019\n",
       "128  Charlotte Hornets    2019          CHO  39.0     False    CHO-2019"
      ]
     },
     "execution_count": 5,
     "metadata": {},
     "output_type": "execute_result"
    }
   ],
   "source": [
    "team_stats = team_stats[ (team_stats[\"season\"] >= 2003) & (team_stats[\"season\"] <= 2019) ]\n",
    "team_stats[\"Team_Season\"] = team_stats.apply(lambda row: str(row.abbreviation) + \"-\" + str(row.season), axis=1)\n",
    "team_stats.head()"
   ]
  },
  {
   "cell_type": "markdown",
   "id": "55d9fb10-4bee-4dbe-9d9c-7d699eb65b23",
   "metadata": {},
   "source": [
    "## Combine Data"
   ]
  },
  {
   "cell_type": "code",
   "execution_count": 6,
   "id": "c0f148dc-9eb8-4840-a543-1c0d2a793300",
   "metadata": {},
   "outputs": [],
   "source": [
    "data = pd.merge(team_stats, team_salaries, on=\"Team_Season\")"
   ]
  },
  {
   "cell_type": "markdown",
   "id": "e2c3f331-4a91-4b02-a63b-a21a1fae7552",
   "metadata": {},
   "source": [
    "## Add Variables"
   ]
  },
  {
   "cell_type": "code",
   "execution_count": 7,
   "id": "623c1711-24b9-4d0d-ab89-96b08e8f46fa",
   "metadata": {},
   "outputs": [],
   "source": [
    "# Adding the Salary Cap Variable\n",
    "salary_cap_conditions = [ \n",
    "    (data[\"season\"] == 2019),\n",
    "    (data[\"season\"] == 2018),\n",
    "    (data[\"season\"] == 2017),\n",
    "    (data[\"season\"] == 2016),\n",
    "    (data[\"season\"] == 2015),\n",
    "    (data[\"season\"] == 2014),\n",
    "    (data[\"season\"] == 2013),\n",
    "    (data[\"season\"] == 2012),\n",
    "    (data[\"season\"] == 2011),\n",
    "    (data[\"season\"] == 2010),\n",
    "    (data[\"season\"] == 2009),\n",
    "    (data[\"season\"] == 2008),\n",
    "    (data[\"season\"] == 2007),\n",
    "    (data[\"season\"] == 2006),\n",
    "    (data[\"season\"] == 2005),\n",
    "    (data[\"season\"] == 2004),\n",
    "    (data[\"season\"] == 2003)\n",
    "]\n",
    "salary_cap_labels = [109140000, 101869000, 99093000, 94143000, 70000000, \n",
    "                     63065000, 58697000, 58044000, 58044000, 58040000, \n",
    "                     57700000, 58680000, 55630000, 53135000, 49500000, \n",
    "                     43870000, 43840000] \n",
    "data[\"Salary_Cap\"] = np.select(salary_cap_conditions, salary_cap_labels)\n",
    "\n",
    "data[\"Above_Salary_Cap\"] = (data[\"Total_Salary\"] - data[\"Salary_Cap\"]) / data[\"Salary_Cap\"]"
   ]
  },
  {
   "cell_type": "code",
   "execution_count": 8,
   "id": "c29d0674-a6f5-48c6-8c76-c675e8e16fcd",
   "metadata": {},
   "outputs": [],
   "source": [
    "# Adding percent of salary Variable\n",
    "all_team_salaries = data.groupby(\"season\")[\"Total_Salary\"].sum()\n",
    "all_team_salaries = all_team_salaries.reset_index()\n",
    "all_team_salaries.columns = [\"season\", \"Season_Salary\"]\n",
    "data = pd.merge(data, all_team_salaries, on=\"season\")\n",
    "\n",
    "data[\"Percent_League_Salary\"] = data[\"Total_Salary\"] / data[\"Season_Salary\"]"
   ]
  },
  {
   "cell_type": "code",
   "execution_count": 9,
   "id": "491bf972-4969-43a3-b610-fbef3465b8e8",
   "metadata": {},
   "outputs": [
    {
     "data": {
      "text/html": [
       "<div>\n",
       "<style scoped>\n",
       "    .dataframe tbody tr th:only-of-type {\n",
       "        vertical-align: middle;\n",
       "    }\n",
       "\n",
       "    .dataframe tbody tr th {\n",
       "        vertical-align: top;\n",
       "    }\n",
       "\n",
       "    .dataframe thead th {\n",
       "        text-align: right;\n",
       "    }\n",
       "</style>\n",
       "<table border=\"1\" class=\"dataframe\">\n",
       "  <thead>\n",
       "    <tr style=\"text-align: right;\">\n",
       "      <th></th>\n",
       "      <th>team</th>\n",
       "      <th>season</th>\n",
       "      <th>abbreviation</th>\n",
       "      <th>w</th>\n",
       "      <th>playoffs</th>\n",
       "      <th>Team_Season</th>\n",
       "      <th>Total_Salary</th>\n",
       "      <th>Mean_Salary</th>\n",
       "      <th>Median_Salary</th>\n",
       "      <th>STD_Salary</th>\n",
       "      <th>Salary_Cap</th>\n",
       "      <th>Above_Salary_Cap</th>\n",
       "      <th>Season_Salary</th>\n",
       "      <th>Percent_League_Salary</th>\n",
       "    </tr>\n",
       "  </thead>\n",
       "  <tbody>\n",
       "    <tr>\n",
       "      <th>0</th>\n",
       "      <td>Atlanta Hawks</td>\n",
       "      <td>2019</td>\n",
       "      <td>ATL</td>\n",
       "      <td>29.0</td>\n",
       "      <td>False</td>\n",
       "      <td>ATL-2019</td>\n",
       "      <td>66443526</td>\n",
       "      <td>3.691307e+06</td>\n",
       "      <td>1942800.0</td>\n",
       "      <td>4.693193e+06</td>\n",
       "      <td>109140000</td>\n",
       "      <td>-0.391208</td>\n",
       "      <td>3599744086</td>\n",
       "      <td>0.018458</td>\n",
       "    </tr>\n",
       "    <tr>\n",
       "      <th>1</th>\n",
       "      <td>Boston Celtics</td>\n",
       "      <td>2019</td>\n",
       "      <td>BOS</td>\n",
       "      <td>49.0</td>\n",
       "      <td>True</td>\n",
       "      <td>BOS-2019</td>\n",
       "      <td>154255448</td>\n",
       "      <td>9.640966e+06</td>\n",
       "      <td>5181780.0</td>\n",
       "      <td>1.111157e+07</td>\n",
       "      <td>109140000</td>\n",
       "      <td>0.413372</td>\n",
       "      <td>3599744086</td>\n",
       "      <td>0.042852</td>\n",
       "    </tr>\n",
       "    <tr>\n",
       "      <th>2</th>\n",
       "      <td>Chicago Bulls</td>\n",
       "      <td>2019</td>\n",
       "      <td>CHI</td>\n",
       "      <td>22.0</td>\n",
       "      <td>False</td>\n",
       "      <td>CHI-2019</td>\n",
       "      <td>80706074</td>\n",
       "      <td>5.044130e+06</td>\n",
       "      <td>2167728.0</td>\n",
       "      <td>5.568329e+06</td>\n",
       "      <td>109140000</td>\n",
       "      <td>-0.260527</td>\n",
       "      <td>3599744086</td>\n",
       "      <td>0.022420</td>\n",
       "    </tr>\n",
       "    <tr>\n",
       "      <th>3</th>\n",
       "      <td>Cleveland Cavaliers</td>\n",
       "      <td>2019</td>\n",
       "      <td>CLE</td>\n",
       "      <td>19.0</td>\n",
       "      <td>False</td>\n",
       "      <td>CLE-2019</td>\n",
       "      <td>112729947</td>\n",
       "      <td>8.671534e+06</td>\n",
       "      <td>3263294.0</td>\n",
       "      <td>8.748628e+06</td>\n",
       "      <td>109140000</td>\n",
       "      <td>0.032893</td>\n",
       "      <td>3599744086</td>\n",
       "      <td>0.031316</td>\n",
       "    </tr>\n",
       "    <tr>\n",
       "      <th>4</th>\n",
       "      <td>Dallas Mavericks</td>\n",
       "      <td>2019</td>\n",
       "      <td>DAL</td>\n",
       "      <td>33.0</td>\n",
       "      <td>False</td>\n",
       "      <td>DAL-2019</td>\n",
       "      <td>49309106</td>\n",
       "      <td>4.109092e+06</td>\n",
       "      <td>2627900.5</td>\n",
       "      <td>3.694928e+06</td>\n",
       "      <td>109140000</td>\n",
       "      <td>-0.548203</td>\n",
       "      <td>3599744086</td>\n",
       "      <td>0.013698</td>\n",
       "    </tr>\n",
       "  </tbody>\n",
       "</table>\n",
       "</div>"
      ],
      "text/plain": [
       "                  team  season abbreviation     w  playoffs Team_Season  \\\n",
       "0        Atlanta Hawks    2019          ATL  29.0     False    ATL-2019   \n",
       "1       Boston Celtics    2019          BOS  49.0      True    BOS-2019   \n",
       "2        Chicago Bulls    2019          CHI  22.0     False    CHI-2019   \n",
       "3  Cleveland Cavaliers    2019          CLE  19.0     False    CLE-2019   \n",
       "4     Dallas Mavericks    2019          DAL  33.0     False    DAL-2019   \n",
       "\n",
       "   Total_Salary   Mean_Salary  Median_Salary    STD_Salary  Salary_Cap  \\\n",
       "0      66443526  3.691307e+06      1942800.0  4.693193e+06   109140000   \n",
       "1     154255448  9.640966e+06      5181780.0  1.111157e+07   109140000   \n",
       "2      80706074  5.044130e+06      2167728.0  5.568329e+06   109140000   \n",
       "3     112729947  8.671534e+06      3263294.0  8.748628e+06   109140000   \n",
       "4      49309106  4.109092e+06      2627900.5  3.694928e+06   109140000   \n",
       "\n",
       "   Above_Salary_Cap  Season_Salary  Percent_League_Salary  \n",
       "0         -0.391208     3599744086               0.018458  \n",
       "1          0.413372     3599744086               0.042852  \n",
       "2         -0.260527     3599744086               0.022420  \n",
       "3          0.032893     3599744086               0.031316  \n",
       "4         -0.548203     3599744086               0.013698  "
      ]
     },
     "execution_count": 9,
     "metadata": {},
     "output_type": "execute_result"
    }
   ],
   "source": [
    "data = data.dropna()\n",
    "data.head()"
   ]
  },
  {
   "cell_type": "code",
   "execution_count": 10,
   "id": "9344ba37-f056-43ad-bf77-f267e12ab801",
   "metadata": {},
   "outputs": [],
   "source": [
    "data.to_csv(\"salaries_team_data.csv\", index = False)"
   ]
  },
  {
   "cell_type": "markdown",
   "id": "783ae9c9-4308-49ce-8a56-00873f7ec8b1",
   "metadata": {},
   "source": [
    "# Importing Functions"
   ]
  },
  {
   "cell_type": "code",
   "execution_count": 15,
   "id": "d2c683a6-6073-49e3-8794-020c699683a5",
   "metadata": {},
   "outputs": [],
   "source": [
    "from numpy import array, exp\n",
    "from scipy.optimize import curve_fit\n",
    "import matplotlib.pyplot as plt \n",
    "\n",
    "import math\n",
    "import statistics"
   ]
  },
  {
   "cell_type": "code",
   "execution_count": 12,
   "id": "5afa81e3-a802-431a-ab23-f75c6d922a49",
   "metadata": {},
   "outputs": [],
   "source": [
    "from sklearn import linear_model\n",
    "import statsmodels.api as sm"
   ]
  },
  {
   "cell_type": "code",
   "execution_count": 43,
   "id": "da07f4a0-f59f-41e5-afcd-f5f8d9822a07",
   "metadata": {},
   "outputs": [],
   "source": [
    "def func(x, a, b, c):\n",
    "    return a * np.log(b * x) + c\n",
    "\n",
    "def func1(x, a, b, c):\n",
    "    return a*x**2+b*x+c\n",
    "\n",
    "def func2(x, a, b, c, d):\n",
    "    return a*x**3 + b*x**2 + c*x + d"
   ]
  },
  {
   "cell_type": "code",
   "execution_count": null,
   "id": "c1a70392-8b37-47a1-bedf-bd2bcedec132",
   "metadata": {},
   "outputs": [],
   "source": [
    "#regr = linear_model.LinearRegression()\n",
    "#regr.fit(x, y)\n",
    "#model = sm.OLS(data.Mean_Salary, data.w).fit()\n",
    "#print_model = model.summary()\n",
    "#print(print_model)"
   ]
  },
  {
   "cell_type": "markdown",
   "id": "95260285-07ec-4f37-80ad-fc6a42c59e20",
   "metadata": {},
   "source": [
    "# Mean Salary of a Team"
   ]
  },
  {
   "cell_type": "code",
   "execution_count": 14,
   "id": "a28a5f36-9ff6-4101-b5e1-cee36897638f",
   "metadata": {},
   "outputs": [
    {
     "name": "stderr",
     "output_type": "stream",
     "text": [
      "C:\\Users\\derek\\anaconda3\\lib\\site-packages\\pandas\\core\\arraylike.py:397: RuntimeWarning: invalid value encountered in log\n",
      "  result = getattr(ufunc, method)(*inputs, **kwargs)\n"
     ]
    },
    {
     "data": {
      "image/png": "[encoded data removed]",
      "text/plain": [
       "<Figure size 432x288 with 1 Axes>"
      ]
     },
     "metadata": {
      "needs_background": "light"
     },
     "output_type": "display_data"
    }
   ],
   "source": [
    "data = data.sort_values(by = \"Mean_Salary\")\n",
    "popt, pcov = curve_fit(func, data.Mean_Salary, data.w)\n",
    "\n",
    "params, covs = curve_fit(func1, data.Mean_Salary, data.w)\n",
    "a, b, c = params[0], params[1], params[2]\n",
    "x = data[\"Mean_Salary\"]\n",
    "y = a*data.Mean_Salary**2 + b*data.Mean_Salary + c\n",
    "\n",
    "params, covs = curve_fit(func2, data.Mean_Salary, data.w)\n",
    "a, b, c, d = params[0], params[1], params[2], params[3]\n",
    "x = data[\"Mean_Salary\"]\n",
    "y2 = a*x**3 + b*x**2 + c*x + d\n",
    "\n",
    "plt.figure()\n",
    "plt.plot(data.Mean_Salary, data.w, 'ko', label=\"Original Noised Data\")\n",
    "plt.plot(data.Mean_Salary, func(data.Mean_Salary, *popt), 'r-', label=\"Log Function\")\n",
    "plt.plot(data.Mean_Salary, y, 'b', label=\"Squared Function\")\n",
    "plt.plot(data.Mean_Salary, y2, 'g', label=\"Cubed Function\")\n",
    "plt.legend()\n",
    "plt.show()"
   ]
  },
  {
   "cell_type": "code",
   "execution_count": 221,
   "id": "c6d701d2-441d-4787-9ea9-383b51abf0fb",
   "metadata": {},
   "outputs": [
    {
     "name": "stdout",
     "output_type": "stream",
     "text": [
      "0.1428518420652941\n"
     ]
    }
   ],
   "source": [
    "params, covs = curve_fit(f = func, xdata = data.Mean_Salary, ydata = data.w)\n",
    "a, b, c = params[0], params[1], params[2]\n",
    "\n",
    "x = data[\"Mean_Salary\"]\n",
    "y = data[\"w\"]\n",
    "yfit = a * np.log(b * x) + c\n",
    "\n",
    "yresid = yfit - y\n",
    "ssresid = sum(pow(yresid, 2))\n",
    "sstotal = len(y) * statistics.variance(y)\n",
    "rsq = 1 - ssresid/sstotal\n",
    "print(rsq)"
   ]
  },
  {
   "cell_type": "code",
   "execution_count": 222,
   "id": "4cc88adc-bcc5-4284-90bc-cf757aea50a5",
   "metadata": {},
   "outputs": [
    {
     "name": "stdout",
     "output_type": "stream",
     "text": [
      "0.15046166861340726\n"
     ]
    }
   ],
   "source": [
    "params, covs = curve_fit(func1, data.Mean_Salary, data.w)\n",
    "a, b, c = params[0], params[1], params[2]\n",
    "\n",
    "x = data[\"Mean_Salary\"]\n",
    "y = data[\"w\"]\n",
    "yfit = a*x**2+b*x+c\n",
    "\n",
    "yresid = array(yfit) - array(y)\n",
    "ssresid = sum(pow(yresid, 2))\n",
    "sstotal = len(y) * statistics.variance(y)\n",
    "rsq = 1 - ssresid/sstotal\n",
    "print(rsq)"
   ]
  },
  {
   "cell_type": "code",
   "execution_count": 232,
   "id": "f4b2e05f-72f7-4bb1-9839-6d3c3dd8dc43",
   "metadata": {},
   "outputs": [
    {
     "name": "stdout",
     "output_type": "stream",
     "text": [
      "0.18158999296698697\n"
     ]
    }
   ],
   "source": [
    "params, covs = curve_fit(func2, data.Mean_Salary, data.w)\n",
    "a, b, c, d = params[0], params[1], params[2], params[3]\n",
    "y = data[\"w\"]\n",
    "x = data[\"Mean_Salary\"]\n",
    "yfit = a*x**3 + b*x**2 + c*x + d\n",
    "\n",
    "yresid = array(yfit) - array(y)\n",
    "ssresid = sum(pow(yresid, 2))\n",
    "sstotal = len(y) * statistics.variance(y)\n",
    "rsq = 1 - ssresid/sstotal\n",
    "print(rsq)"
   ]
  },
  {
   "cell_type": "markdown",
   "id": "4577f5c3-0d72-4b34-ba24-f63e576a572d",
   "metadata": {},
   "source": [
    "# Standard Deviation of the Salary"
   ]
  },
  {
   "cell_type": "code",
   "execution_count": 235,
   "id": "5e1504e0-194a-4cad-a367-726de12b439b",
   "metadata": {},
   "outputs": [
    {
     "name": "stderr",
     "output_type": "stream",
     "text": [
      "C:\\Users\\derek\\anaconda3\\lib\\site-packages\\pandas\\core\\arraylike.py:397: RuntimeWarning: invalid value encountered in log\n",
      "  result = getattr(ufunc, method)(*inputs, **kwargs)\n"
     ]
    },
    {
     "data": {
      "image/png": "[encoded data removed]",
      "text/plain": [
       "<Figure size 432x288 with 1 Axes>"
      ]
     },
     "metadata": {
      "needs_background": "light"
     },
     "output_type": "display_data"
    }
   ],
   "source": [
    "data = data.sort_values(by = \"STD_Salary\")\n",
    "popt, pcov = curve_fit(func, data.STD_Salary, data.w)\n",
    "\n",
    "params, covs = curve_fit(func1, data.Mean_Salary, data.w)\n",
    "a, b, c = params[0], params[1], params[2]\n",
    "x = data[\"STD_Salary\"]\n",
    "y = a*x**2 + b*x + c\n",
    "\n",
    "params, covs = curve_fit(func2, data.Mean_Salary, data.w)\n",
    "a, b, c, d = params[0], params[1], params[2], params[3]\n",
    "x = data[\"STD_Salary\"]\n",
    "y2 = a*x**3 + b*x**2 + c*x + d\n",
    "\n",
    "plt.figure()\n",
    "plt.plot(data.STD_Salary, data.w, 'ko', label=\"Original Noised Data\")\n",
    "plt.plot(data.STD_Salary, func(data.STD_Salary, *popt), 'r-', label=\"Fitted Curve\")\n",
    "plt.plot(data.STD_Salary, y, 'b', label=\"Squared Function\")\n",
    "plt.plot(data.STD_Salary, y2, 'g', label=\"Cubed Function\")\n",
    "plt.legend()\n",
    "plt.show()"
   ]
  },
  {
   "cell_type": "code",
   "execution_count": 223,
   "id": "d4b8ea72-5673-4c27-a7f8-28ba56ffbb5a",
   "metadata": {},
   "outputs": [
    {
     "name": "stdout",
     "output_type": "stream",
     "text": [
      "0.12363194852255543\n"
     ]
    }
   ],
   "source": [
    "popt, pcov = curve_fit(func, data.STD_Salary, data.w)\n",
    "x = data[\"STD_Salary\"]\n",
    "y = data[\"w\"]\n",
    "yfit = func(data.STD_Salary, *popt)\n",
    "\n",
    "yresid = array(yfit) - array(y)\n",
    "ssresid = sum(pow(yresid, 2))\n",
    "sstotal = len(y) * statistics.variance(y)\n",
    "rsq = 1 - ssresid/sstotal\n",
    "print(rsq)"
   ]
  },
  {
   "cell_type": "code",
   "execution_count": 236,
   "id": "38d9380f-d47a-4ad7-8760-ed71f816c0fc",
   "metadata": {},
   "outputs": [
    {
     "name": "stdout",
     "output_type": "stream",
     "text": [
      "0.10004624746535629\n"
     ]
    }
   ],
   "source": [
    "params, covs = curve_fit(func1, data.Mean_Salary, data.w)\n",
    "a, b, c = params[0], params[1], params[2]\n",
    "\n",
    "x = data[\"STD_Salary\"]\n",
    "y = data[\"w\"]\n",
    "yfit = a*x**2+b*x+c\n",
    "\n",
    "yresid = array(yfit) - array(y)\n",
    "ssresid = sum(pow(yresid, 2))\n",
    "sstotal = len(y) * statistics.variance(y)\n",
    "rsq = 1 - ssresid/sstotal\n",
    "print(rsq)"
   ]
  },
  {
   "cell_type": "code",
   "execution_count": 238,
   "id": "da5c892b-c73d-4827-b2c2-5aef00079431",
   "metadata": {},
   "outputs": [
    {
     "name": "stdout",
     "output_type": "stream",
     "text": [
      "0.00016498930360286934\n"
     ]
    }
   ],
   "source": [
    "params, covs = curve_fit(func2, data.Mean_Salary, data.w)\n",
    "a, b, c, d = params[0], params[1], params[2], params[3]\n",
    "\n",
    "x = data[\"STD_Salary\"]\n",
    "y = data[\"w\"]\n",
    "yfit = a*x**3 + b*x**2 + c*x + d\n",
    "\n",
    "yresid = array(yfit) - array(y)\n",
    "ssresid = sum(pow(yresid, 2))\n",
    "sstotal = len(y) * statistics.variance(y)\n",
    "rsq = 1 - ssresid/sstotal\n",
    "print(rsq)"
   ]
  },
  {
   "cell_type": "markdown",
   "id": "0d738df0-440d-4c48-9e4c-17fd60d162bb",
   "metadata": {},
   "source": [
    "# Total Salary of Team"
   ]
  },
  {
   "cell_type": "code",
   "execution_count": 114,
   "id": "a3643dd5-8f0c-4511-9483-7682bf52adff",
   "metadata": {},
   "outputs": [
    {
     "name": "stderr",
     "output_type": "stream",
     "text": [
      "C:\\Users\\derek\\anaconda3\\lib\\site-packages\\pandas\\core\\arraylike.py:397: RuntimeWarning: invalid value encountered in log\n",
      "  result = getattr(ufunc, method)(*inputs, **kwargs)\n"
     ]
    },
    {
     "data": {
      "image/png": "[encoded data removed]",
      "text/plain": [
       "<Figure size 432x288 with 1 Axes>"
      ]
     },
     "metadata": {
      "needs_background": "light"
     },
     "output_type": "display_data"
    }
   ],
   "source": [
    "data = data.sort_values(by = \"Total_Salary\")\n",
    "popt, pcov = curve_fit(func, data.Total_Salary, data.w)\n",
    "\n",
    "params, covs = curve_fit(func1, data.Total_Salary, data.w)\n",
    "a, b, c = params[0], params[1], params[2]\n",
    "x = data[\"Total_Salary\"]\n",
    "y = a*x**2 + b*x + c\n",
    "\n",
    "params, covs = curve_fit(func2, data.Total_Salary, data.w)\n",
    "a, b, c, d = params[0], params[1], params[2], params[3]\n",
    "x = data[\"Total_Salary\"]\n",
    "y2 = a*x**3 + b*x**2 + c*x + d\n",
    "\n",
    "plt.figure()\n",
    "plt.plot(data.Total_Salary, data.w, 'ko', label=\"Original Data\")\n",
    "plt.plot(data.Total_Salary, func(data.Total_Salary, *popt), 'r-', label=\"Log Line of Best Fit\")\n",
    "#plt.plot(data.Total_Salary, y, 'b', label=\"Squared Function\")\n",
    "#plt.plot(data.Total_Salary, y2, 'g', label=\"Cubed Function\")\n",
    "plt.title(\"Salary of Team vs. Number of Wins\")\n",
    "plt.xlabel('Total Salay of Team')\n",
    "plt.ylabel('Wins Per Season')\n",
    "plt.legend()\n",
    "plt.show()"
   ]
  },
  {
   "cell_type": "code",
   "execution_count": 292,
   "id": "41cd54da-9496-41b4-b236-681a8d915158",
   "metadata": {},
   "outputs": [
    {
     "name": "stdout",
     "output_type": "stream",
     "text": [
      "0.05809259211300466\n"
     ]
    },
    {
     "name": "stderr",
     "output_type": "stream",
     "text": [
      "C:\\Users\\derek\\anaconda3\\lib\\site-packages\\pandas\\core\\arraylike.py:397: RuntimeWarning: invalid value encountered in log\n",
      "  result = getattr(ufunc, method)(*inputs, **kwargs)\n"
     ]
    }
   ],
   "source": [
    "popt, pcov = curve_fit(func, data.Total_Salary, data.w)\n",
    "x = data[\"Total_Salary\"]\n",
    "y = data[\"w\"]\n",
    "yfit = func(data.Total_Salary, *popt)\n",
    "\n",
    "yresid = array(yfit) - array(y)\n",
    "ssresid = sum(pow(yresid, 2))\n",
    "sstotal = len(y) * statistics.variance(y)\n",
    "rsq = 1 - ssresid/sstotal\n",
    "print(rsq)"
   ]
  },
  {
   "cell_type": "code",
   "execution_count": 293,
   "id": "29c3ffec-d42c-452e-bab1-48dc2828e10d",
   "metadata": {},
   "outputs": [
    {
     "name": "stdout",
     "output_type": "stream",
     "text": [
      "0.06300047163197398\n"
     ]
    }
   ],
   "source": [
    "params, covs = curve_fit(func1, data.Total_Salary, data.w)\n",
    "a, b, c = params[0], params[1], params[2]\n",
    "\n",
    "x = data[\"Total_Salary\"]\n",
    "y = data[\"w\"]\n",
    "yfit = a*x**2+b*x+c\n",
    "\n",
    "yresid = array(yfit) - array(y)\n",
    "ssresid = sum(pow(yresid, 2))\n",
    "sstotal = len(y) * statistics.variance(y)\n",
    "rsq = 1 - ssresid/sstotal\n",
    "print(rsq)"
   ]
  },
  {
   "cell_type": "code",
   "execution_count": 294,
   "id": "52fdf857-c557-42df-ad03-dfb19d7f9c89",
   "metadata": {},
   "outputs": [
    {
     "name": "stdout",
     "output_type": "stream",
     "text": [
      "0.06348268779211519\n"
     ]
    }
   ],
   "source": [
    "params, covs = curve_fit(func2, data.Total_Salary, data.w)\n",
    "a, b, c, d = params[0], params[1], params[2], params[3]\n",
    "\n",
    "x = data[\"Total_Salary\"]\n",
    "y = data[\"w\"]\n",
    "yfit = a*x**3 + b*x**2 + c*x + d\n",
    "\n",
    "yresid = array(yfit) - array(y)\n",
    "ssresid = sum(pow(yresid, 2))\n",
    "sstotal = len(y) * statistics.variance(y)\n",
    "rsq = 1 - ssresid/sstotal\n",
    "print(rsq)"
   ]
  },
  {
   "cell_type": "markdown",
   "id": "af04c62b-124c-4d65-9070-fbaaa6bbd81a",
   "metadata": {},
   "source": [
    "# Median Salary"
   ]
  },
  {
   "cell_type": "code",
   "execution_count": 267,
   "id": "0b864549-adb7-4c24-8b16-453c33cfd778",
   "metadata": {},
   "outputs": [
    {
     "name": "stderr",
     "output_type": "stream",
     "text": [
      "C:\\Users\\derek\\anaconda3\\lib\\site-packages\\pandas\\core\\arraylike.py:397: RuntimeWarning: invalid value encountered in log\n",
      "  result = getattr(ufunc, method)(*inputs, **kwargs)\n"
     ]
    },
    {
     "data": {
      "image/png": "[encoded data removed]",
      "text/plain": [
       "<Figure size 432x288 with 1 Axes>"
      ]
     },
     "metadata": {
      "needs_background": "light"
     },
     "output_type": "display_data"
    }
   ],
   "source": [
    "data = data.sort_values(by = \"Median_Salary\")\n",
    "popt, pcov = curve_fit(func, data.Median_Salary, data.w)\n",
    "\n",
    "params, covs = curve_fit(func1, data.Median_Salary, data.w)\n",
    "a, b, c = params[0], params[1], params[2]\n",
    "x = data[\"Median_Salary\"]\n",
    "y = a*x**2 + b*x + c\n",
    "\n",
    "params, covs = curve_fit(func2, data.Median_Salary, data.w)\n",
    "a, b, c, d = params[0], params[1], params[2], params[3]\n",
    "x = data[\"Median_Salary\"]\n",
    "y2 = a*x**3 + b*x**2 + c*x + d\n",
    "\n",
    "plt.figure()\n",
    "plt.plot(data.Median_Salary, data.w, 'ko', label=\"Original Noised Data\")\n",
    "plt.plot(data.Median_Salary, func(data.Median_Salary, *popt), 'r-', label=\"Fitted Curve\")\n",
    "plt.plot(data.Median_Salary, y, 'b', label=\"Squared Function\")\n",
    "plt.plot(data.Median_Salary, y2, 'g', label=\"Cubed Function\")\n",
    "plt.legend()\n",
    "plt.show()"
   ]
  },
  {
   "cell_type": "code",
   "execution_count": 271,
   "id": "f63c09ab-d5a1-4c8c-a63d-a79de4aad472",
   "metadata": {},
   "outputs": [
    {
     "name": "stdout",
     "output_type": "stream",
     "text": [
      "0.01856918377793837\n"
     ]
    }
   ],
   "source": [
    "popt, pcov = curve_fit(func, data.Median_Salary, data.w)\n",
    "x = data[\"Median_Salary\"]\n",
    "y = data[\"w\"]\n",
    "yfit = func(data.Median_Salary, *popt)\n",
    "\n",
    "yresid = array(yfit) - array(y)\n",
    "ssresid = sum(pow(yresid, 2))\n",
    "sstotal = len(y) * statistics.variance(y)\n",
    "rsq = 1 - ssresid/sstotal\n",
    "print(rsq)"
   ]
  },
  {
   "cell_type": "code",
   "execution_count": 269,
   "id": "788ef3a8-8450-469a-a057-5e1d351d9dfc",
   "metadata": {},
   "outputs": [
    {
     "name": "stdout",
     "output_type": "stream",
     "text": [
      "0.018305535407886486\n"
     ]
    }
   ],
   "source": [
    "params, covs = curve_fit(func1, data.Median_Salary, data.w)\n",
    "a, b, c = params[0], params[1], params[2]\n",
    "\n",
    "x = data[\"Median_Salary\"]\n",
    "y = data[\"w\"]\n",
    "yfit = a*x**2+b*x+c\n",
    "\n",
    "yresid = array(yfit) - array(y)\n",
    "ssresid = sum(pow(yresid, 2))\n",
    "sstotal = len(y) * statistics.variance(y)\n",
    "rsq = 1 - ssresid/sstotal\n",
    "print(rsq)"
   ]
  },
  {
   "cell_type": "code",
   "execution_count": 270,
   "id": "4ee4f4d2-8079-462c-bb38-2ee91f58c9d0",
   "metadata": {},
   "outputs": [
    {
     "name": "stdout",
     "output_type": "stream",
     "text": [
      "0.019713201042103834\n"
     ]
    }
   ],
   "source": [
    "params, covs = curve_fit(func2, data.Median_Salary, data.w)\n",
    "a, b, c, d = params[0], params[1], params[2], params[3]\n",
    "\n",
    "x = data[\"Median_Salary\"]\n",
    "y = data[\"w\"]\n",
    "yfit = a*x**3 + b*x**2 + c*x + d\n",
    "\n",
    "yresid = array(yfit) - array(y)\n",
    "ssresid = sum(pow(yresid, 2))\n",
    "sstotal = len(y) * statistics.variance(y)\n",
    "rsq = 1 - ssresid/sstotal\n",
    "print(rsq)"
   ]
  },
  {
   "cell_type": "markdown",
   "id": "5f23bc20-8e7e-4125-b5b5-fea2c65f33e1",
   "metadata": {},
   "source": [
    "# Percentage above the Salary Cap"
   ]
  },
  {
   "cell_type": "code",
   "execution_count": 264,
   "id": "51ce0cca-03f7-496f-a178-4a132e8fde32",
   "metadata": {},
   "outputs": [
    {
     "name": "stderr",
     "output_type": "stream",
     "text": [
      "C:\\Users\\derek\\anaconda3\\lib\\site-packages\\pandas\\core\\arraylike.py:397: RuntimeWarning: invalid value encountered in log\n",
      "  result = getattr(ufunc, method)(*inputs, **kwargs)\n"
     ]
    },
    {
     "ename": "RuntimeError",
     "evalue": "Optimal parameters not found: Number of calls to function has reached maxfev = 800.",
     "output_type": "error",
     "traceback": [
      "\u001b[1;31m---------------------------------------------------------------------------\u001b[0m",
      "\u001b[1;31mRuntimeError\u001b[0m                              Traceback (most recent call last)",
      "Input \u001b[1;32mIn [264]\u001b[0m, in \u001b[0;36m<cell line: 2>\u001b[1;34m()\u001b[0m\n\u001b[0;32m      1\u001b[0m data \u001b[38;5;241m=\u001b[39m data\u001b[38;5;241m.\u001b[39msort_values(by \u001b[38;5;241m=\u001b[39m \u001b[38;5;124m\"\u001b[39m\u001b[38;5;124mAbove_Salary_Cap\u001b[39m\u001b[38;5;124m\"\u001b[39m)\n\u001b[1;32m----> 2\u001b[0m popt, pcov \u001b[38;5;241m=\u001b[39m \u001b[43mcurve_fit\u001b[49m\u001b[43m(\u001b[49m\u001b[43mfunc\u001b[49m\u001b[43m,\u001b[49m\u001b[43m \u001b[49m\u001b[43mdata\u001b[49m\u001b[38;5;241;43m.\u001b[39;49m\u001b[43mAbove_Salary_Cap\u001b[49m\u001b[43m,\u001b[49m\u001b[43m \u001b[49m\u001b[43mdata\u001b[49m\u001b[38;5;241;43m.\u001b[39;49m\u001b[43mw\u001b[49m\u001b[43m)\u001b[49m\n\u001b[0;32m      4\u001b[0m params, covs \u001b[38;5;241m=\u001b[39m curve_fit(func1, data\u001b[38;5;241m.\u001b[39mAbove_Salary_Cap, data\u001b[38;5;241m.\u001b[39mw)\n\u001b[0;32m      5\u001b[0m a, b, c \u001b[38;5;241m=\u001b[39m params[\u001b[38;5;241m0\u001b[39m], params[\u001b[38;5;241m1\u001b[39m], params[\u001b[38;5;241m2\u001b[39m]\n",
      "File \u001b[1;32m~\\anaconda3\\lib\\site-packages\\scipy\\optimize\\minpack.py:794\u001b[0m, in \u001b[0;36mcurve_fit\u001b[1;34m(f, xdata, ydata, p0, sigma, absolute_sigma, check_finite, bounds, method, jac, **kwargs)\u001b[0m\n\u001b[0;32m    792\u001b[0m     cost \u001b[38;5;241m=\u001b[39m np\u001b[38;5;241m.\u001b[39msum(infodict[\u001b[38;5;124m'\u001b[39m\u001b[38;5;124mfvec\u001b[39m\u001b[38;5;124m'\u001b[39m] \u001b[38;5;241m*\u001b[39m\u001b[38;5;241m*\u001b[39m \u001b[38;5;241m2\u001b[39m)\n\u001b[0;32m    793\u001b[0m     \u001b[38;5;28;01mif\u001b[39;00m ier \u001b[38;5;129;01mnot\u001b[39;00m \u001b[38;5;129;01min\u001b[39;00m [\u001b[38;5;241m1\u001b[39m, \u001b[38;5;241m2\u001b[39m, \u001b[38;5;241m3\u001b[39m, \u001b[38;5;241m4\u001b[39m]:\n\u001b[1;32m--> 794\u001b[0m         \u001b[38;5;28;01mraise\u001b[39;00m \u001b[38;5;167;01mRuntimeError\u001b[39;00m(\u001b[38;5;124m\"\u001b[39m\u001b[38;5;124mOptimal parameters not found: \u001b[39m\u001b[38;5;124m\"\u001b[39m \u001b[38;5;241m+\u001b[39m errmsg)\n\u001b[0;32m    795\u001b[0m \u001b[38;5;28;01melse\u001b[39;00m:\n\u001b[0;32m    796\u001b[0m     \u001b[38;5;66;03m# Rename maxfev (leastsq) to max_nfev (least_squares), if specified.\u001b[39;00m\n\u001b[0;32m    797\u001b[0m     \u001b[38;5;28;01mif\u001b[39;00m \u001b[38;5;124m'\u001b[39m\u001b[38;5;124mmax_nfev\u001b[39m\u001b[38;5;124m'\u001b[39m \u001b[38;5;129;01mnot\u001b[39;00m \u001b[38;5;129;01min\u001b[39;00m kwargs:\n",
      "\u001b[1;31mRuntimeError\u001b[0m: Optimal parameters not found: Number of calls to function has reached maxfev = 800."
     ]
    }
   ],
   "source": [
    "data = data.sort_values(by = \"Above_Salary_Cap\")\n",
    "popt, pcov = curve_fit(func, data.Above_Salary_Cap, data.w)\n",
    "\n",
    "params, covs = curve_fit(func1, data.Above_Salary_Cap, data.w)\n",
    "a, b, c = params[0], params[1], params[2]\n",
    "x = data[\"Above_Salary_Cap\"]\n",
    "y = a*x**2 + b*x + c\n",
    "\n",
    "params, covs = curve_fit(func2, data.Above_Salary_Cap, data.w)\n",
    "a, b, c, d = params[0], params[1], params[2], params[3]\n",
    "x = data[\"Above_Salary_Cap\"]\n",
    "y2 = a*x**3 + b*x**2 + c*x + d\n",
    "\n",
    "plt.figure()\n",
    "plt.plot(data.Above_Salary_Cap, data.w, 'ko', label=\"Original Noised Data\")\n",
    "plt.plot(data.Above_Salary_Cap, func(data.Above_Salary_Cap, *popt), 'r-', label=\"Fitted Curve\")\n",
    "plt.plot(data.Above_Salary_Cap, y, 'b', label=\"Squared Function\")\n",
    "plt.plot(data.Above_Salary_Cap, y2, 'g', label=\"Cubed Function\")\n",
    "plt.legend()\n",
    "plt.show()"
   ]
  },
  {
   "cell_type": "code",
   "execution_count": 258,
   "id": "be285e6d-8e92-4945-a027-ebffe4b67b23",
   "metadata": {},
   "outputs": [
    {
     "ename": "RuntimeError",
     "evalue": "Optimal parameters not found: Number of calls to function has reached maxfev = 800.",
     "output_type": "error",
     "traceback": [
      "\u001b[1;31m---------------------------------------------------------------------------\u001b[0m",
      "\u001b[1;31mRuntimeError\u001b[0m                              Traceback (most recent call last)",
      "Input \u001b[1;32mIn [258]\u001b[0m, in \u001b[0;36m<cell line: 1>\u001b[1;34m()\u001b[0m\n\u001b[1;32m----> 1\u001b[0m popt, pcov \u001b[38;5;241m=\u001b[39m \u001b[43mcurve_fit\u001b[49m\u001b[43m(\u001b[49m\u001b[43mfunc\u001b[49m\u001b[43m,\u001b[49m\u001b[43m \u001b[49m\u001b[38;5;241;43m40\u001b[39;49m\u001b[38;5;241;43m*\u001b[39;49m\u001b[43mdata\u001b[49m\u001b[38;5;241;43m.\u001b[39;49m\u001b[43mAbove_Salary_Cap\u001b[49m\u001b[43m,\u001b[49m\u001b[43m \u001b[49m\u001b[43mdata\u001b[49m\u001b[38;5;241;43m.\u001b[39;49m\u001b[43mw\u001b[49m\u001b[43m)\u001b[49m\n\u001b[0;32m      2\u001b[0m x \u001b[38;5;241m=\u001b[39m data[\u001b[38;5;124m\"\u001b[39m\u001b[38;5;124mAbove_Salary_Cap\u001b[39m\u001b[38;5;124m\"\u001b[39m]\n\u001b[0;32m      3\u001b[0m y \u001b[38;5;241m=\u001b[39m data[\u001b[38;5;124m\"\u001b[39m\u001b[38;5;124mw\u001b[39m\u001b[38;5;124m\"\u001b[39m]\n",
      "File \u001b[1;32m~\\anaconda3\\lib\\site-packages\\scipy\\optimize\\minpack.py:794\u001b[0m, in \u001b[0;36mcurve_fit\u001b[1;34m(f, xdata, ydata, p0, sigma, absolute_sigma, check_finite, bounds, method, jac, **kwargs)\u001b[0m\n\u001b[0;32m    792\u001b[0m     cost \u001b[38;5;241m=\u001b[39m np\u001b[38;5;241m.\u001b[39msum(infodict[\u001b[38;5;124m'\u001b[39m\u001b[38;5;124mfvec\u001b[39m\u001b[38;5;124m'\u001b[39m] \u001b[38;5;241m*\u001b[39m\u001b[38;5;241m*\u001b[39m \u001b[38;5;241m2\u001b[39m)\n\u001b[0;32m    793\u001b[0m     \u001b[38;5;28;01mif\u001b[39;00m ier \u001b[38;5;129;01mnot\u001b[39;00m \u001b[38;5;129;01min\u001b[39;00m [\u001b[38;5;241m1\u001b[39m, \u001b[38;5;241m2\u001b[39m, \u001b[38;5;241m3\u001b[39m, \u001b[38;5;241m4\u001b[39m]:\n\u001b[1;32m--> 794\u001b[0m         \u001b[38;5;28;01mraise\u001b[39;00m \u001b[38;5;167;01mRuntimeError\u001b[39;00m(\u001b[38;5;124m\"\u001b[39m\u001b[38;5;124mOptimal parameters not found: \u001b[39m\u001b[38;5;124m\"\u001b[39m \u001b[38;5;241m+\u001b[39m errmsg)\n\u001b[0;32m    795\u001b[0m \u001b[38;5;28;01melse\u001b[39;00m:\n\u001b[0;32m    796\u001b[0m     \u001b[38;5;66;03m# Rename maxfev (leastsq) to max_nfev (least_squares), if specified.\u001b[39;00m\n\u001b[0;32m    797\u001b[0m     \u001b[38;5;28;01mif\u001b[39;00m \u001b[38;5;124m'\u001b[39m\u001b[38;5;124mmax_nfev\u001b[39m\u001b[38;5;124m'\u001b[39m \u001b[38;5;129;01mnot\u001b[39;00m \u001b[38;5;129;01min\u001b[39;00m kwargs:\n",
      "\u001b[1;31mRuntimeError\u001b[0m: Optimal parameters not found: Number of calls to function has reached maxfev = 800."
     ]
    }
   ],
   "source": [
    "popt, pcov = curve_fit(func, data.Above_Salary_Cap, data.w)\n",
    "x = data[\"Above_Salary_Cap\"]\n",
    "y = data[\"w\"]\n",
    "yfit = func(data.Above_Salary_Cap, *popt)\n",
    "\n",
    "yresid = array(yfit) - array(y)\n",
    "ssresid = sum(pow(yresid, 2))\n",
    "sstotal = len(y) * statistics.variance(y)\n",
    "rsq = 1 - ssresid/sstotal\n",
    "print(rsq)"
   ]
  },
  {
   "cell_type": "code",
   "execution_count": 256,
   "id": "f40f0560-ae1b-4a70-a93f-6384d8777fc9",
   "metadata": {},
   "outputs": [
    {
     "name": "stdout",
     "output_type": "stream",
     "text": [
      "0.07979937914658353\n"
     ]
    }
   ],
   "source": [
    "params, covs = curve_fit(func1, data.Above_Salary_Cap, data.w)\n",
    "a, b, c = params[0], params[1], params[2]\n",
    "\n",
    "x = data[\"Above_Salary_Cap\"]\n",
    "y = data[\"w\"]\n",
    "yfit = a*x**2+b*x+c\n",
    "\n",
    "yresid = array(yfit) - array(y)\n",
    "ssresid = sum(pow(yresid, 2))\n",
    "sstotal = len(y) * statistics.variance(y)\n",
    "rsq = 1 - ssresid/sstotal\n",
    "print(rsq)"
   ]
  },
  {
   "cell_type": "code",
   "execution_count": 255,
   "id": "7567f5d5-1cda-4ac3-b18f-a7dff2731efd",
   "metadata": {},
   "outputs": [
    {
     "name": "stdout",
     "output_type": "stream",
     "text": [
      "0.08653294511247034\n"
     ]
    }
   ],
   "source": [
    "params, covs = curve_fit(func2, data.Above_Salary_Cap, data.w)\n",
    "a, b, c, d = params[0], params[1], params[2], params[3]\n",
    "\n",
    "x = data[\"Above_Salary_Cap\"]\n",
    "y = data[\"w\"]\n",
    "yfit = a*x**3 + b*x**2 + c*x + d\n",
    "\n",
    "yresid = array(yfit) - array(y)\n",
    "ssresid = sum(pow(yresid, 2))\n",
    "sstotal = len(y) * statistics.variance(y)\n",
    "rsq = 1 - ssresid/sstotal\n",
    "print(rsq)"
   ]
  },
  {
   "cell_type": "markdown",
   "id": "365282d1-d884-4c04-8209-4895f0a60a5e",
   "metadata": {},
   "source": [
    "# Log of Percent of League Salary"
   ]
  },
  {
   "cell_type": "code",
   "execution_count": 115,
   "id": "39879143-35bf-4b2c-b18a-d88c76dbeff7",
   "metadata": {},
   "outputs": [
    {
     "data": {
      "image/png": "[encoded data removed]",
      "text/plain": [
       "<Figure size 432x288 with 1 Axes>"
      ]
     },
     "metadata": {
      "needs_background": "light"
     },
     "output_type": "display_data"
    }
   ],
   "source": [
    "data = data.sort_values(by = \"Percent_League_Salary\")\n",
    "popt, pcov = curve_fit(func, data.Percent_League_Salary, data.w)\n",
    "\n",
    "params, covs = curve_fit(func1, data.Percent_League_Salary, data.w)\n",
    "a, b, c = params[0], params[1], params[2]\n",
    "x = data[\"Percent_League_Salary\"]\n",
    "y = a*x**2 + b*x + c\n",
    "\n",
    "params, covs = curve_fit(func2, data.Percent_League_Salary, data.w)\n",
    "a, b, c, d = params[0], params[1], params[2], params[3]\n",
    "x = data[\"Percent_League_Salary\"]\n",
    "y2 = a*x**3 + b*x**2 + c*x + d\n",
    "\n",
    "plt.figure()\n",
    "plt.plot(data.Percent_League_Salary, data.w, 'ko', label=\"Original Noised Data\")\n",
    "plt.plot(data.Percent_League_Salary, func(data.Percent_League_Salary, *popt), 'r-', label=\"Fitted Curve\")\n",
    "#plt.plot(data.Percent_League_Salary, y, 'b', label=\"Squared Function\")\n",
    "#plt.plot(data.Percent_League_Salary, y2, 'g', label=\"Cubed Function\")\n",
    "plt.title(\"Median Salary vs. Number of Wins\")\n",
    "plt.xlabel('Median Salary of Team')\n",
    "plt.ylabel('Wins Per Season')\n",
    "plt.legend()\n",
    "plt.show()"
   ]
  },
  {
   "cell_type": "code",
   "execution_count": 299,
   "id": "5cb55ee5-3279-4a64-a2fa-5aca072cf077",
   "metadata": {},
   "outputs": [
    {
     "name": "stdout",
     "output_type": "stream",
     "text": [
      "0.11308816671558852\n"
     ]
    }
   ],
   "source": [
    "popt, pcov = curve_fit(func, data.Percent_League_Salary, data.w)\n",
    "x = data[\"Percent_League_Salary\"]\n",
    "y = data[\"w\"]\n",
    "yfit = func(data.Percent_League_Salary, *popt)\n",
    "\n",
    "yresid = array(yfit) - array(y)\n",
    "ssresid = sum(pow(yresid, 2))\n",
    "sstotal = len(y) * statistics.variance(y)\n",
    "rsq = 1 - ssresid/sstotal\n",
    "print(rsq)"
   ]
  },
  {
   "cell_type": "code",
   "execution_count": 245,
   "id": "f9302f11-12f6-49da-b710-590df4d6aae9",
   "metadata": {},
   "outputs": [
    {
     "name": "stdout",
     "output_type": "stream",
     "text": [
      "0.14277520469961646\n"
     ]
    }
   ],
   "source": [
    "params, covs = curve_fit(func1, data.Percent_League_Salary, data.w)\n",
    "a, b, c = params[0], params[1], params[2]\n",
    "\n",
    "x = data[\"Percent_League_Salary\"]\n",
    "y = data[\"w\"]\n",
    "yfit = a*x**2+b*x+c\n",
    "\n",
    "yresid = array(yfit) - array(y)\n",
    "ssresid = sum(pow(yresid, 2))\n",
    "sstotal = len(y) * statistics.variance(y)\n",
    "rsq = 1 - ssresid/sstotal\n",
    "print(rsq)"
   ]
  },
  {
   "cell_type": "code",
   "execution_count": 246,
   "id": "0fcb8bc4-cf9b-40ae-ab85-5f4a7be1e4b8",
   "metadata": {},
   "outputs": [
    {
     "name": "stdout",
     "output_type": "stream",
     "text": [
      "0.14581151008804583\n"
     ]
    }
   ],
   "source": [
    "params, covs = curve_fit(func2, data.Percent_League_Salary, data.w)\n",
    "a, b, c, d = params[0], params[1], params[2], params[3]\n",
    "\n",
    "x = data[\"Percent_League_Salary\"]\n",
    "y = data[\"w\"]\n",
    "yfit = a*x**3 + b*x**2 + c*x + d\n",
    "\n",
    "yresid = array(yfit) - array(y)\n",
    "ssresid = sum(pow(yresid, 2))\n",
    "sstotal = len(y) * statistics.variance(y)\n",
    "rsq = 1 - ssresid/sstotal\n",
    "print(rsq)"
   ]
  },
  {
   "cell_type": "markdown",
   "id": "4bef6a08-220b-44b8-9f94-f2c1ff28fe46",
   "metadata": {},
   "source": [
    "# New Data Points"
   ]
  },
  {
   "cell_type": "code",
   "execution_count": 160,
   "id": "6b828a5d-8498-4e63-8ea2-10dee6875bb7",
   "metadata": {},
   "outputs": [
    {
     "name": "stderr",
     "output_type": "stream",
     "text": [
      "C:\\Users\\derek\\anaconda3\\lib\\site-packages\\pandas\\core\\arraylike.py:397: RuntimeWarning: invalid value encountered in log\n",
      "  result = getattr(ufunc, method)(*inputs, **kwargs)\n"
     ]
    },
    {
     "data": {
      "image/png": "[encoded data removed]",
      "text/plain": [
       "<Figure size 432x288 with 1 Axes>"
      ]
     },
     "metadata": {
      "needs_background": "light"
     },
     "output_type": "display_data"
    }
   ],
   "source": [
    "data = data.sort_values(by = \"Percent_League_Salary\")\n",
    "#data_new1 = data[(data[\"w\"] > 50) & (data[\"Percent_League_Salary\"] < 0.03)]\n",
    "data_new = data[(data[\"season\"] > 2014) & (data[\"Percent_League_Salary\"] < 0.06) & (data[\"w\"] < 62)]\n",
    "\n",
    "\n",
    "popt_PLS, pcov = curve_fit(func, data_new.Percent_League_Salary, data_new.w)\n",
    "log_y = func(data_new.Percent_League_Salary, *popt_PLS)\n",
    "\n",
    "rand_num = np.random.rand(400) * 0.06\n",
    "new_x_vals = rand_num[(rand_num > 0.015)]\n",
    "\n",
    "sigma = 4\n",
    "mu = 0.1\n",
    "noise = sigma * np.random.randn(len(new_x_vals)) + mu\n",
    "\n",
    "new_y_vals = func(new_x_vals, *popt_PLS)\n",
    "new_y_vals = new_y_vals + noise\n",
    "\n",
    "data_x = np.concatenate((data_new.Percent_League_Salary, new_x_vals))\n",
    "data_y = np.concatenate((data_new.w, new_y_vals))\n",
    "\n",
    "\n",
    "\n",
    "\n",
    "plt.figure()\n",
    "plt.plot(data_x, data_y, 'ko', label=\"Original Data\")\n",
    "plt.plot(data_new.Percent_League_Salary, log_y, 'r-', label=\"Log Line of Best Fit\")\n",
    "plt.title(\"Percent of League Salary vs. Number of Wins\")\n",
    "plt.xlabel('Percentage of League Salary')\n",
    "plt.ylabel('Wins Per Season')\n",
    "plt.legend()\n",
    "plt.show()"
   ]
  },
  {
   "cell_type": "code",
   "execution_count": 161,
   "id": "6a10f89c-fc30-465a-bd19-7e44e07cdec4",
   "metadata": {},
   "outputs": [
    {
     "name": "stdout",
     "output_type": "stream",
     "text": [
      "0.5624991908189015\n"
     ]
    },
    {
     "name": "stderr",
     "output_type": "stream",
     "text": [
      "C:\\Users\\derek\\AppData\\Local\\Temp\\ipykernel_24528\\3577450042.py:2: RuntimeWarning: invalid value encountered in log\n",
      "  return a * np.log(b * x) + c\n"
     ]
    }
   ],
   "source": [
    "popt, pcov = curve_fit(func, data_x, data_y)\n",
    "x = data_x\n",
    "y = data_y\n",
    "yfit = func(data_x, *popt_PLS)\n",
    "\n",
    "yresid = array(yfit) - array(y)\n",
    "ssresid = sum(pow(yresid, 2))\n",
    "sstotal = len(y) * statistics.variance(y)\n",
    "rsq = 1 - ssresid/sstotal\n",
    "print(rsq)"
   ]
  },
  {
   "cell_type": "code",
   "execution_count": 169,
   "id": "edc60caf-3c00-4349-8438-28e6ce83141c",
   "metadata": {},
   "outputs": [
    {
     "name": "stderr",
     "output_type": "stream",
     "text": [
      "C:\\Users\\derek\\anaconda3\\lib\\site-packages\\pandas\\core\\arraylike.py:397: RuntimeWarning: invalid value encountered in log\n",
      "  result = getattr(ufunc, method)(*inputs, **kwargs)\n"
     ]
    },
    {
     "data": {
      "image/png": "[encoded data removed]",
      "text/plain": [
       "<Figure size 432x288 with 1 Axes>"
      ]
     },
     "metadata": {
      "needs_background": "light"
     },
     "output_type": "display_data"
    }
   ],
   "source": [
    "data = data.sort_values(by = \"STD_Salary\")\n",
    "data_new = data[(data[\"season\"] > 2015) & (data[\"w\"] < 62)]\n",
    "#data_new = data_new[(data_new[\"STD_Salary\"] > 0.4*10**7) & (data_new[\"w\"] < 50)]\n",
    "\n",
    "x = data_new.STD_Salary\n",
    "y = data_new.w\n",
    "\n",
    "popt_STD, pcov = curve_fit(func, x, y)\n",
    "log_y = func(x, *popt_STD)\n",
    "\n",
    "rand_num2 = np.random.rand(500) * 1.3*10**7\n",
    "new_x_vals = rand_num2[(rand_num2 > 0.2*10**7)]\n",
    "\n",
    "sigma = 4\n",
    "mu = 0.1\n",
    "noise = sigma * np.random.randn(len(new_x_vals)) + mu\n",
    "\n",
    "new_y_vals = func(new_x_vals, *popt_STD)\n",
    "new_y_vals = new_y_vals + noise\n",
    "\n",
    "data_x = np.concatenate((x, new_x_vals))\n",
    "data_y = np.concatenate((y, new_y_vals))\n",
    "\n",
    "\n",
    "plt.figure()\n",
    "plt.plot(data_x, data_y, 'ko', label=\"Original Data\")\n",
    "plt.plot(x, log_y, 'r-', label=\"Fitted Curve\")\n",
    "plt.title(\"STD of Team Salary vs. Number of Wins\")\n",
    "plt.xlabel('STD of Team Salary')\n",
    "plt.ylabel('Wins Per Season')\n",
    "plt.legend()\n",
    "plt.show()"
   ]
  },
  {
   "cell_type": "code",
   "execution_count": 167,
   "id": "fdd25030-e85f-4644-a643-30df60ce6d4a",
   "metadata": {},
   "outputs": [
    {
     "name": "stdout",
     "output_type": "stream",
     "text": [
      "0.5477376758811311\n"
     ]
    },
    {
     "name": "stderr",
     "output_type": "stream",
     "text": [
      "C:\\Users\\derek\\AppData\\Local\\Temp\\ipykernel_24528\\3577450042.py:2: RuntimeWarning: invalid value encountered in log\n",
      "  return a * np.log(b * x) + c\n"
     ]
    }
   ],
   "source": [
    "popt, pcov = curve_fit(func, data_x, data_y)\n",
    "x = data_x\n",
    "y = data_y\n",
    "yfit = func(data_x, *popt_STD)\n",
    "\n",
    "yresid = array(yfit) - array(y)\n",
    "ssresid = sum(pow(yresid, 2))\n",
    "sstotal = len(y) * statistics.variance(y)\n",
    "rsq = 1 - ssresid/sstotal\n",
    "print(rsq)"
   ]
  },
  {
   "cell_type": "markdown",
   "id": "0e5ba724-3cbf-4cd4-ad38-957c12a3bed8",
   "metadata": {},
   "source": [
    "# Predictive Model"
   ]
  },
  {
   "cell_type": "code",
   "execution_count": 154,
   "id": "44a2a440-02d1-4a19-9865-073a17a0366a",
   "metadata": {},
   "outputs": [],
   "source": [
    "season22_23 = pd.read_csv(\"NBA_Salary_22_23.csv\")\n",
    "stats_22_23 = season22_23.groupby(\"Team\").agg({\"Salary\" : [\"sum\", \"std\"]})\n",
    "stats_22_23.columns = [\"Total_Salary\", \"STD_Salary\"]"
   ]
  },
  {
   "cell_type": "code",
   "execution_count": 158,
   "id": "6d875041-de15-482c-9244-e00560e129a3",
   "metadata": {},
   "outputs": [
    {
     "data": {
      "text/html": [
       "<div>\n",
       "<style scoped>\n",
       "    .dataframe tbody tr th:only-of-type {\n",
       "        vertical-align: middle;\n",
       "    }\n",
       "\n",
       "    .dataframe tbody tr th {\n",
       "        vertical-align: top;\n",
       "    }\n",
       "\n",
       "    .dataframe thead th {\n",
       "        text-align: right;\n",
       "    }\n",
       "</style>\n",
       "<table border=\"1\" class=\"dataframe\">\n",
       "  <thead>\n",
       "    <tr style=\"text-align: right;\">\n",
       "      <th></th>\n",
       "      <th>level_0</th>\n",
       "      <th>index</th>\n",
       "      <th>Team</th>\n",
       "      <th>Total_Salary</th>\n",
       "      <th>STD_Salary</th>\n",
       "      <th>Percent_League_Salary</th>\n",
       "    </tr>\n",
       "  </thead>\n",
       "  <tbody>\n",
       "    <tr>\n",
       "      <th>0</th>\n",
       "      <td>0</td>\n",
       "      <td>0</td>\n",
       "      <td>Atlanta Hawks</td>\n",
       "      <td>162503959</td>\n",
       "      <td>1.000516e+07</td>\n",
       "      <td>0.036538</td>\n",
       "    </tr>\n",
       "    <tr>\n",
       "      <th>1</th>\n",
       "      <td>1</td>\n",
       "      <td>1</td>\n",
       "      <td>Boston Celtics</td>\n",
       "      <td>183233457</td>\n",
       "      <td>1.014407e+07</td>\n",
       "      <td>0.041199</td>\n",
       "    </tr>\n",
       "    <tr>\n",
       "      <th>2</th>\n",
       "      <td>2</td>\n",
       "      <td>2</td>\n",
       "      <td>Brooklyn Nets</td>\n",
       "      <td>181110181</td>\n",
       "      <td>1.469851e+07</td>\n",
       "      <td>0.040722</td>\n",
       "    </tr>\n",
       "    <tr>\n",
       "      <th>3</th>\n",
       "      <td>3</td>\n",
       "      <td>3</td>\n",
       "      <td>Charlotte Hornets</td>\n",
       "      <td>114688843</td>\n",
       "      <td>8.165254e+06</td>\n",
       "      <td>0.025787</td>\n",
       "    </tr>\n",
       "    <tr>\n",
       "      <th>4</th>\n",
       "      <td>4</td>\n",
       "      <td>4</td>\n",
       "      <td>Chicago Bulls</td>\n",
       "      <td>149647267</td>\n",
       "      <td>1.105118e+07</td>\n",
       "      <td>0.033648</td>\n",
       "    </tr>\n",
       "  </tbody>\n",
       "</table>\n",
       "</div>"
      ],
      "text/plain": [
       "   level_0  index               Team  Total_Salary    STD_Salary  \\\n",
       "0        0      0      Atlanta Hawks     162503959  1.000516e+07   \n",
       "1        1      1     Boston Celtics     183233457  1.014407e+07   \n",
       "2        2      2      Brooklyn Nets     181110181  1.469851e+07   \n",
       "3        3      3  Charlotte Hornets     114688843  8.165254e+06   \n",
       "4        4      4      Chicago Bulls     149647267  1.105118e+07   \n",
       "\n",
       "   Percent_League_Salary  \n",
       "0               0.036538  \n",
       "1               0.041199  \n",
       "2               0.040722  \n",
       "3               0.025787  \n",
       "4               0.033648  "
      ]
     },
     "execution_count": 158,
     "metadata": {},
     "output_type": "execute_result"
    }
   ],
   "source": [
    "stats_22_23 = stats_22_23.reset_index()\n",
    "total_salary = sum(stats_22_23[\"Total_Salary\"])\n",
    "stats_22_23[\"Percent_League_Salary\"] = stats_22_23[\"Total_Salary\"] / total_salary\n",
    "stats_22_23.head()"
   ]
  },
  {
   "cell_type": "code",
   "execution_count": 180,
   "id": "af477c3b-66f2-4aac-9671-e7ca1b725e4c",
   "metadata": {},
   "outputs": [],
   "source": [
    "#STD Values\n",
    "STD_x = stats_22_23[\"STD_Salary\"]\n",
    "STD_vals = func(STD_x, *popt_STD)\n",
    "\n",
    "#Percent League Salary Values\n",
    "PLS_x = stats_22_23[\"Percent_League_Salary\"]\n",
    "PLS_vals = func(PLS_x, *popt_PLS)\n",
    "\n",
    "stats_22_23[\"Expected_Wins\"] = (PLS_vals + STD_vals) / 2\n",
    "table = stats_22_23[[\"Team\", \"Expected_Wins\"]]\n",
    "\n",
    "season_results = table.sort_values(by = \"Expected_Wins\", ascending = False)\n",
    "season_results[\"rank\"] = range(1,31)"
   ]
  },
  {
   "cell_type": "code",
   "execution_count": 181,
   "id": "f53aac79-b6bc-4a05-957a-882b72b3ddb3",
   "metadata": {},
   "outputs": [
    {
     "data": {
      "text/html": [
       "<div>\n",
       "<style scoped>\n",
       "    .dataframe tbody tr th:only-of-type {\n",
       "        vertical-align: middle;\n",
       "    }\n",
       "\n",
       "    .dataframe tbody tr th {\n",
       "        vertical-align: top;\n",
       "    }\n",
       "\n",
       "    .dataframe thead th {\n",
       "        text-align: right;\n",
       "    }\n",
       "</style>\n",
       "<table border=\"1\" class=\"dataframe\">\n",
       "  <thead>\n",
       "    <tr style=\"text-align: right;\">\n",
       "      <th></th>\n",
       "      <th>rank</th>\n",
       "      <th>Team</th>\n",
       "      <th>Expected_Wins</th>\n",
       "    </tr>\n",
       "  </thead>\n",
       "  <tbody>\n",
       "    <tr>\n",
       "      <th>9</th>\n",
       "      <td>1</td>\n",
       "      <td>Golden State Warriors</td>\n",
       "      <td>49.144752</td>\n",
       "    </tr>\n",
       "    <tr>\n",
       "      <th>13</th>\n",
       "      <td>2</td>\n",
       "      <td>Los Angeles Lakers</td>\n",
       "      <td>48.082649</td>\n",
       "    </tr>\n",
       "    <tr>\n",
       "      <th>12</th>\n",
       "      <td>3</td>\n",
       "      <td>LA Clippers</td>\n",
       "      <td>47.968157</td>\n",
       "    </tr>\n",
       "    <tr>\n",
       "      <th>2</th>\n",
       "      <td>4</td>\n",
       "      <td>Brooklyn Nets</td>\n",
       "      <td>47.912459</td>\n",
       "    </tr>\n",
       "    <tr>\n",
       "      <th>16</th>\n",
       "      <td>5</td>\n",
       "      <td>Milwaukee Bucks</td>\n",
       "      <td>47.311276</td>\n",
       "    </tr>\n",
       "    <tr>\n",
       "      <th>1</th>\n",
       "      <td>6</td>\n",
       "      <td>Boston Celtics</td>\n",
       "      <td>45.705954</td>\n",
       "    </tr>\n",
       "    <tr>\n",
       "      <th>23</th>\n",
       "      <td>7</td>\n",
       "      <td>Phoenix Suns</td>\n",
       "      <td>45.616672</td>\n",
       "    </tr>\n",
       "    <tr>\n",
       "      <th>24</th>\n",
       "      <td>8</td>\n",
       "      <td>Portland Trail Blazers</td>\n",
       "      <td>45.376296</td>\n",
       "    </tr>\n",
       "    <tr>\n",
       "      <th>7</th>\n",
       "      <td>9</td>\n",
       "      <td>Denver Nuggets</td>\n",
       "      <td>45.347333</td>\n",
       "    </tr>\n",
       "    <tr>\n",
       "      <th>22</th>\n",
       "      <td>10</td>\n",
       "      <td>Philadelphia 76ers</td>\n",
       "      <td>45.220253</td>\n",
       "    </tr>\n",
       "    <tr>\n",
       "      <th>29</th>\n",
       "      <td>11</td>\n",
       "      <td>Washington Wizards</td>\n",
       "      <td>44.938689</td>\n",
       "    </tr>\n",
       "    <tr>\n",
       "      <th>17</th>\n",
       "      <td>12</td>\n",
       "      <td>Minnesota Timberwolves</td>\n",
       "      <td>44.930518</td>\n",
       "    </tr>\n",
       "    <tr>\n",
       "      <th>15</th>\n",
       "      <td>13</td>\n",
       "      <td>Miami Heat</td>\n",
       "      <td>44.799815</td>\n",
       "    </tr>\n",
       "    <tr>\n",
       "      <th>6</th>\n",
       "      <td>14</td>\n",
       "      <td>Dallas Mavericks</td>\n",
       "      <td>44.668466</td>\n",
       "    </tr>\n",
       "    <tr>\n",
       "      <th>0</th>\n",
       "      <td>15</td>\n",
       "      <td>Atlanta Hawks</td>\n",
       "      <td>44.299717</td>\n",
       "    </tr>\n",
       "  </tbody>\n",
       "</table>\n",
       "</div>"
      ],
      "text/plain": [
       "    rank                    Team  Expected_Wins\n",
       "9      1   Golden State Warriors      49.144752\n",
       "13     2      Los Angeles Lakers      48.082649\n",
       "12     3             LA Clippers      47.968157\n",
       "2      4           Brooklyn Nets      47.912459\n",
       "16     5         Milwaukee Bucks      47.311276\n",
       "1      6          Boston Celtics      45.705954\n",
       "23     7            Phoenix Suns      45.616672\n",
       "24     8  Portland Trail Blazers      45.376296\n",
       "7      9          Denver Nuggets      45.347333\n",
       "22    10      Philadelphia 76ers      45.220253\n",
       "29    11      Washington Wizards      44.938689\n",
       "17    12  Minnesota Timberwolves      44.930518\n",
       "15    13              Miami Heat      44.799815\n",
       "6     14        Dallas Mavericks      44.668466\n",
       "0     15           Atlanta Hawks      44.299717"
      ]
     },
     "execution_count": 181,
     "metadata": {},
     "output_type": "execute_result"
    }
   ],
   "source": [
    "season_results[[\"rank\", \"Team\", \"Expected_Wins\"]].head(15)"
   ]
  },
  {
   "cell_type": "code",
   "execution_count": 182,
   "id": "da1df9f7-3d1c-40c1-8e33-2249d70553c3",
   "metadata": {},
   "outputs": [
    {
     "data": {
      "text/html": [
       "<div>\n",
       "<style scoped>\n",
       "    .dataframe tbody tr th:only-of-type {\n",
       "        vertical-align: middle;\n",
       "    }\n",
       "\n",
       "    .dataframe tbody tr th {\n",
       "        vertical-align: top;\n",
       "    }\n",
       "\n",
       "    .dataframe thead th {\n",
       "        text-align: right;\n",
       "    }\n",
       "</style>\n",
       "<table border=\"1\" class=\"dataframe\">\n",
       "  <thead>\n",
       "    <tr style=\"text-align: right;\">\n",
       "      <th></th>\n",
       "      <th>rank</th>\n",
       "      <th>Team</th>\n",
       "      <th>Expected_Wins</th>\n",
       "    </tr>\n",
       "  </thead>\n",
       "  <tbody>\n",
       "    <tr>\n",
       "      <th>4</th>\n",
       "      <td>16</td>\n",
       "      <td>Chicago Bulls</td>\n",
       "      <td>44.019871</td>\n",
       "    </tr>\n",
       "    <tr>\n",
       "      <th>5</th>\n",
       "      <td>17</td>\n",
       "      <td>Cleveland Cavaliers</td>\n",
       "      <td>43.423408</td>\n",
       "    </tr>\n",
       "    <tr>\n",
       "      <th>18</th>\n",
       "      <td>18</td>\n",
       "      <td>New Orleans Pelicans</td>\n",
       "      <td>43.416683</td>\n",
       "    </tr>\n",
       "    <tr>\n",
       "      <th>27</th>\n",
       "      <td>19</td>\n",
       "      <td>Toronto Raptors</td>\n",
       "      <td>43.214756</td>\n",
       "    </tr>\n",
       "    <tr>\n",
       "      <th>19</th>\n",
       "      <td>20</td>\n",
       "      <td>New York Knicks</td>\n",
       "      <td>42.089077</td>\n",
       "    </tr>\n",
       "    <tr>\n",
       "      <th>25</th>\n",
       "      <td>21</td>\n",
       "      <td>Sacramento Kings</td>\n",
       "      <td>40.675090</td>\n",
       "    </tr>\n",
       "    <tr>\n",
       "      <th>28</th>\n",
       "      <td>22</td>\n",
       "      <td>Utah Jazz</td>\n",
       "      <td>40.221594</td>\n",
       "    </tr>\n",
       "    <tr>\n",
       "      <th>3</th>\n",
       "      <td>23</td>\n",
       "      <td>Charlotte Hornets</td>\n",
       "      <td>39.190674</td>\n",
       "    </tr>\n",
       "    <tr>\n",
       "      <th>14</th>\n",
       "      <td>24</td>\n",
       "      <td>Memphis Grizzlies</td>\n",
       "      <td>38.017730</td>\n",
       "    </tr>\n",
       "    <tr>\n",
       "      <th>21</th>\n",
       "      <td>25</td>\n",
       "      <td>Orlando Magic</td>\n",
       "      <td>38.004734</td>\n",
       "    </tr>\n",
       "    <tr>\n",
       "      <th>20</th>\n",
       "      <td>26</td>\n",
       "      <td>Oklahoma City Thunder</td>\n",
       "      <td>37.797879</td>\n",
       "    </tr>\n",
       "    <tr>\n",
       "      <th>11</th>\n",
       "      <td>27</td>\n",
       "      <td>Indiana Pacers</td>\n",
       "      <td>35.708825</td>\n",
       "    </tr>\n",
       "    <tr>\n",
       "      <th>8</th>\n",
       "      <td>28</td>\n",
       "      <td>Detroit Pistons</td>\n",
       "      <td>34.811107</td>\n",
       "    </tr>\n",
       "    <tr>\n",
       "      <th>10</th>\n",
       "      <td>29</td>\n",
       "      <td>Houston Rockets</td>\n",
       "      <td>33.717549</td>\n",
       "    </tr>\n",
       "    <tr>\n",
       "      <th>26</th>\n",
       "      <td>30</td>\n",
       "      <td>San Antonio Spurs</td>\n",
       "      <td>30.259141</td>\n",
       "    </tr>\n",
       "  </tbody>\n",
       "</table>\n",
       "</div>"
      ],
      "text/plain": [
       "    rank                   Team  Expected_Wins\n",
       "4     16          Chicago Bulls      44.019871\n",
       "5     17    Cleveland Cavaliers      43.423408\n",
       "18    18   New Orleans Pelicans      43.416683\n",
       "27    19        Toronto Raptors      43.214756\n",
       "19    20        New York Knicks      42.089077\n",
       "25    21       Sacramento Kings      40.675090\n",
       "28    22              Utah Jazz      40.221594\n",
       "3     23      Charlotte Hornets      39.190674\n",
       "14    24      Memphis Grizzlies      38.017730\n",
       "21    25          Orlando Magic      38.004734\n",
       "20    26  Oklahoma City Thunder      37.797879\n",
       "11    27         Indiana Pacers      35.708825\n",
       "8     28        Detroit Pistons      34.811107\n",
       "10    29        Houston Rockets      33.717549\n",
       "26    30      San Antonio Spurs      30.259141"
      ]
     },
     "execution_count": 182,
     "metadata": {},
     "output_type": "execute_result"
    }
   ],
   "source": [
    "season_results[[\"rank\", \"Team\", \"Expected_Wins\"]].tail(15)"
   ]
  },
  {
   "cell_type": "markdown",
   "id": "95941d07-95fc-4a5c-b76d-8c993a035c93",
   "metadata": {},
   "source": [
    "# Experiment Stuff"
   ]
  },
  {
   "cell_type": "code",
   "execution_count": 302,
   "id": "9b3cf897-fbbe-4b1b-a2ca-15558168f2cd",
   "metadata": {},
   "outputs": [
    {
     "name": "stderr",
     "output_type": "stream",
     "text": [
      "C:\\Users\\derek\\anaconda3\\lib\\site-packages\\pandas\\core\\arraylike.py:397: RuntimeWarning: invalid value encountered in log\n",
      "  result = getattr(ufunc, method)(*inputs, **kwargs)\n"
     ]
    },
    {
     "name": "stdout",
     "output_type": "stream",
     "text": [
      "0.13835279233344333\n",
      "0.14637866471903394\n",
      "0.16232084642408695\n",
      "0.17919235570090664\n",
      "0.20594063379981753\n",
      "0.21626647404451593\n",
      "0.22763079389978624\n",
      "0.23522264578104146\n",
      "0.2256377103062569\n",
      "0.20987484674176693\n",
      "0.20254883084525965\n",
      "0.18633788478944724\n",
      "0.21478822630711703\n",
      "0.23154078486511043\n"
     ]
    }
   ],
   "source": [
    "for i in range(2005, 2019):\n",
    "    new_data = data[data[\"season\"] > i]\n",
    "    \n",
    "    popt, pcov = curve_fit(func, new_data.Percent_League_Salary, new_data.w)\n",
    "    x = new_data[\"Percent_League_Salary\"]\n",
    "    y = new_data[\"w\"]\n",
    "    yfit = func(new_data.Percent_League_Salary, *popt)\n",
    "\n",
    "    yresid = array(yfit) - array(y)\n",
    "    ssresid = sum(pow(yresid, 2))\n",
    "    sstotal = len(y) * statistics.variance(y)\n",
    "    rsq = 1 - ssresid/sstotal\n",
    "    print(rsq)"
   ]
  },
  {
   "cell_type": "code",
   "execution_count": 306,
   "id": "29c017ef-e63a-40aa-8e27-e8e474d2a8c3",
   "metadata": {},
   "outputs": [
    {
     "name": "stderr",
     "output_type": "stream",
     "text": [
      "C:\\Users\\derek\\anaconda3\\lib\\site-packages\\pandas\\core\\arraylike.py:397: RuntimeWarning: invalid value encountered in log\n",
      "  result = getattr(ufunc, method)(*inputs, **kwargs)\n"
     ]
    },
    {
     "name": "stdout",
     "output_type": "stream",
     "text": [
      "0.16266522676841355\n",
      "0.1769662602845513\n",
      "0.19480321416282564\n",
      "0.19489076261760208\n",
      "0.18163405178600156\n",
      "0.1789452862708123\n",
      "0.17108653737138702\n",
      "0.13773865595673584\n",
      "0.13226691467206775\n",
      "0.12267845565211899\n",
      "0.13103532250053418\n",
      "0.1732062643214688\n",
      "0.2054381396334759\n",
      "0.17310194332003415\n"
     ]
    }
   ],
   "source": [
    "for i in range(2005, 2019):\n",
    "    new_data = data[data[\"season\"] > i]\n",
    "    \n",
    "    popt, pcov = curve_fit(func, new_data[\"STD_Salary\"], new_data.w)\n",
    "    x = new_data[\"STD_Salary\"]\n",
    "    y = new_data[\"w\"]\n",
    "    yfit = func(new_data.STD_Salary, *popt)\n",
    "\n",
    "    yresid = array(yfit) - array(y)\n",
    "    ssresid = sum(pow(yresid, 2))\n",
    "    sstotal = len(y) * statistics.variance(y)\n",
    "    rsq = 1 - ssresid/sstotal\n",
    "    print(rsq)"
   ]
  },
  {
   "cell_type": "code",
   "execution_count": 303,
   "id": "f5284593-eac2-42dc-bfe9-198f86e6133f",
   "metadata": {},
   "outputs": [
    {
     "name": "stdout",
     "output_type": "stream",
     "text": [
      "0.16668456910402185\n",
      "0.17349410002895782\n",
      "0.18342063975737388\n",
      "0.18530228633784618\n",
      "0.18609436070901753\n",
      "0.17420477138753632\n",
      "0.16717539979715978\n",
      "0.12840896146844305\n",
      "0.15945537305939628\n",
      "0.16016536013232996\n",
      "0.13835187092865076\n",
      "0.1279027025072058\n",
      "0.17620250364815682\n",
      "0.24937170398648978\n"
     ]
    }
   ],
   "source": [
    "for i in range(2005, 2019):\n",
    "    new_data = data[data[\"season\"] > i]\n",
    "    \n",
    "    popt, pcov = curve_fit(func, new_data.Mean_Salary, new_data.w)\n",
    "    x = new_data[\"Mean_Salary\"]\n",
    "    y = new_data[\"w\"]\n",
    "    yfit = func(new_data.Mean_Salary, *popt)\n",
    "\n",
    "    yresid = array(yfit) - array(y)\n",
    "    ssresid = sum(pow(yresid, 2))\n",
    "    sstotal = len(y) * statistics.variance(y)\n",
    "    rsq = 1 - ssresid/sstotal\n",
    "    print(rsq)"
   ]
  },
  {
   "cell_type": "markdown",
   "id": "cf46d3ca-c978-4671-a74d-b161a52dbd59",
   "metadata": {},
   "source": [
    "# Original Data Sets"
   ]
  },
  {
   "cell_type": "code",
   "execution_count": 25,
   "id": "85186485-9d04-408e-872b-cbcbf7f2a02d",
   "metadata": {},
   "outputs": [
    {
     "data": {
      "text/html": [
       "<div>\n",
       "<style scoped>\n",
       "    .dataframe tbody tr th:only-of-type {\n",
       "        vertical-align: middle;\n",
       "    }\n",
       "\n",
       "    .dataframe tbody tr th {\n",
       "        vertical-align: top;\n",
       "    }\n",
       "\n",
       "    .dataframe thead th {\n",
       "        text-align: right;\n",
       "    }\n",
       "</style>\n",
       "<table border=\"1\" class=\"dataframe\">\n",
       "  <thead>\n",
       "    <tr style=\"text-align: right;\">\n",
       "      <th></th>\n",
       "      <th>season</th>\n",
       "      <th>lg</th>\n",
       "      <th>team</th>\n",
       "      <th>abbreviation</th>\n",
       "      <th>playoffs</th>\n",
       "      <th>age</th>\n",
       "      <th>w</th>\n",
       "      <th>l</th>\n",
       "      <th>pw</th>\n",
       "      <th>pl</th>\n",
       "      <th>...</th>\n",
       "      <th>tov_percent</th>\n",
       "      <th>orb_percent</th>\n",
       "      <th>ft_fga</th>\n",
       "      <th>opp_e_fg_percent</th>\n",
       "      <th>opp_tov_percent</th>\n",
       "      <th>opp_drb_percent</th>\n",
       "      <th>opp_ft_fga</th>\n",
       "      <th>arena</th>\n",
       "      <th>attend</th>\n",
       "      <th>attend_g</th>\n",
       "    </tr>\n",
       "  </thead>\n",
       "  <tbody>\n",
       "    <tr>\n",
       "      <th>0</th>\n",
       "      <td>2023</td>\n",
       "      <td>NBA</td>\n",
       "      <td>Atlanta Hawks</td>\n",
       "      <td>ATL</td>\n",
       "      <td>False</td>\n",
       "      <td>25.5</td>\n",
       "      <td>4.0</td>\n",
       "      <td>3.0</td>\n",
       "      <td>3.0</td>\n",
       "      <td>4.0</td>\n",
       "      <td>...</td>\n",
       "      <td>11.1</td>\n",
       "      <td>22.4</td>\n",
       "      <td>0.194</td>\n",
       "      <td>0.525</td>\n",
       "      <td>11.5</td>\n",
       "      <td>72.2</td>\n",
       "      <td>0.250</td>\n",
       "      <td>State Farm Arena</td>\n",
       "      <td>53083.0</td>\n",
       "      <td>17694.0</td>\n",
       "    </tr>\n",
       "    <tr>\n",
       "      <th>1</th>\n",
       "      <td>2023</td>\n",
       "      <td>NBA</td>\n",
       "      <td>Boston Celtics</td>\n",
       "      <td>BOS</td>\n",
       "      <td>False</td>\n",
       "      <td>27.6</td>\n",
       "      <td>4.0</td>\n",
       "      <td>2.0</td>\n",
       "      <td>3.0</td>\n",
       "      <td>3.0</td>\n",
       "      <td>...</td>\n",
       "      <td>12.7</td>\n",
       "      <td>19.1</td>\n",
       "      <td>0.226</td>\n",
       "      <td>0.532</td>\n",
       "      <td>10.8</td>\n",
       "      <td>74.9</td>\n",
       "      <td>0.212</td>\n",
       "      <td>TD Garden</td>\n",
       "      <td>57468.0</td>\n",
       "      <td>19156.0</td>\n",
       "    </tr>\n",
       "    <tr>\n",
       "      <th>2</th>\n",
       "      <td>2023</td>\n",
       "      <td>NBA</td>\n",
       "      <td>Brooklyn Nets</td>\n",
       "      <td>BRK</td>\n",
       "      <td>False</td>\n",
       "      <td>28.8</td>\n",
       "      <td>2.0</td>\n",
       "      <td>5.0</td>\n",
       "      <td>2.0</td>\n",
       "      <td>5.0</td>\n",
       "      <td>...</td>\n",
       "      <td>12.6</td>\n",
       "      <td>21.3</td>\n",
       "      <td>0.250</td>\n",
       "      <td>0.556</td>\n",
       "      <td>13.4</td>\n",
       "      <td>70.2</td>\n",
       "      <td>0.224</td>\n",
       "      <td>Barclays Center</td>\n",
       "      <td>87276.0</td>\n",
       "      <td>17455.0</td>\n",
       "    </tr>\n",
       "    <tr>\n",
       "      <th>3</th>\n",
       "      <td>2023</td>\n",
       "      <td>NBA</td>\n",
       "      <td>Chicago Bulls</td>\n",
       "      <td>CHI</td>\n",
       "      <td>False</td>\n",
       "      <td>28.0</td>\n",
       "      <td>3.0</td>\n",
       "      <td>4.0</td>\n",
       "      <td>3.0</td>\n",
       "      <td>4.0</td>\n",
       "      <td>...</td>\n",
       "      <td>12.7</td>\n",
       "      <td>24.6</td>\n",
       "      <td>0.269</td>\n",
       "      <td>0.564</td>\n",
       "      <td>15.9</td>\n",
       "      <td>79.9</td>\n",
       "      <td>0.201</td>\n",
       "      <td>United Center</td>\n",
       "      <td>76078.0</td>\n",
       "      <td>19020.0</td>\n",
       "    </tr>\n",
       "    <tr>\n",
       "      <th>4</th>\n",
       "      <td>2023</td>\n",
       "      <td>NBA</td>\n",
       "      <td>Charlotte Hornets</td>\n",
       "      <td>CHO</td>\n",
       "      <td>False</td>\n",
       "      <td>26.2</td>\n",
       "      <td>3.0</td>\n",
       "      <td>4.0</td>\n",
       "      <td>4.0</td>\n",
       "      <td>3.0</td>\n",
       "      <td>...</td>\n",
       "      <td>12.5</td>\n",
       "      <td>24.4</td>\n",
       "      <td>0.184</td>\n",
       "      <td>0.512</td>\n",
       "      <td>12.1</td>\n",
       "      <td>74.8</td>\n",
       "      <td>0.222</td>\n",
       "      <td>Spectrum Center</td>\n",
       "      <td>50386.0</td>\n",
       "      <td>16795.0</td>\n",
       "    </tr>\n",
       "  </tbody>\n",
       "</table>\n",
       "<p>5 rows × 31 columns</p>\n",
       "</div>"
      ],
      "text/plain": [
       "   season   lg               team abbreviation  playoffs   age    w    l   pw  \\\n",
       "0    2023  NBA      Atlanta Hawks          ATL     False  25.5  4.0  3.0  3.0   \n",
       "1    2023  NBA     Boston Celtics          BOS     False  27.6  4.0  2.0  3.0   \n",
       "2    2023  NBA      Brooklyn Nets          BRK     False  28.8  2.0  5.0  2.0   \n",
       "3    2023  NBA      Chicago Bulls          CHI     False  28.0  3.0  4.0  3.0   \n",
       "4    2023  NBA  Charlotte Hornets          CHO     False  26.2  3.0  4.0  4.0   \n",
       "\n",
       "    pl  ...  tov_percent  orb_percent  ft_fga  opp_e_fg_percent  \\\n",
       "0  4.0  ...         11.1         22.4   0.194             0.525   \n",
       "1  3.0  ...         12.7         19.1   0.226             0.532   \n",
       "2  5.0  ...         12.6         21.3   0.250             0.556   \n",
       "3  4.0  ...         12.7         24.6   0.269             0.564   \n",
       "4  3.0  ...         12.5         24.4   0.184             0.512   \n",
       "\n",
       "   opp_tov_percent  opp_drb_percent  opp_ft_fga             arena   attend  \\\n",
       "0             11.5             72.2       0.250  State Farm Arena  53083.0   \n",
       "1             10.8             74.9       0.212         TD Garden  57468.0   \n",
       "2             13.4             70.2       0.224   Barclays Center  87276.0   \n",
       "3             15.9             79.9       0.201     United Center  76078.0   \n",
       "4             12.1             74.8       0.222   Spectrum Center  50386.0   \n",
       "\n",
       "   attend_g  \n",
       "0   17694.0  \n",
       "1   19156.0  \n",
       "2   17455.0  \n",
       "3   19020.0  \n",
       "4   16795.0  \n",
       "\n",
       "[5 rows x 31 columns]"
      ]
     },
     "execution_count": 25,
     "metadata": {},
     "output_type": "execute_result"
    }
   ],
   "source": [
    "all_team_stats.head()"
   ]
  },
  {
   "cell_type": "code",
   "execution_count": 26,
   "id": "df31a671-3d64-48b8-93d0-2ca505fd8365",
   "metadata": {},
   "outputs": [
    {
     "data": {
      "text/html": [
       "<div>\n",
       "<style scoped>\n",
       "    .dataframe tbody tr th:only-of-type {\n",
       "        vertical-align: middle;\n",
       "    }\n",
       "\n",
       "    .dataframe tbody tr th {\n",
       "        vertical-align: top;\n",
       "    }\n",
       "\n",
       "    .dataframe thead th {\n",
       "        text-align: right;\n",
       "    }\n",
       "</style>\n",
       "<table border=\"1\" class=\"dataframe\">\n",
       "  <thead>\n",
       "    <tr style=\"text-align: right;\">\n",
       "      <th></th>\n",
       "      <th>Player</th>\n",
       "      <th>Team</th>\n",
       "      <th>Salary</th>\n",
       "      <th>Season</th>\n",
       "      <th>Abb</th>\n",
       "      <th>TEAM-SEASON</th>\n",
       "    </tr>\n",
       "  </thead>\n",
       "  <tbody>\n",
       "    <tr>\n",
       "      <th>0</th>\n",
       "      <td>Shaquille O'Neal</td>\n",
       "      <td>Los Angeles Lakers</td>\n",
       "      <td>23571000</td>\n",
       "      <td>2003</td>\n",
       "      <td>LAL</td>\n",
       "      <td>LAL-2003</td>\n",
       "    </tr>\n",
       "    <tr>\n",
       "      <th>1</th>\n",
       "      <td>Juwan Howard</td>\n",
       "      <td>Denver Nuggets</td>\n",
       "      <td>20625000</td>\n",
       "      <td>2003</td>\n",
       "      <td>DEN</td>\n",
       "      <td>DEN-2003</td>\n",
       "    </tr>\n",
       "    <tr>\n",
       "      <th>2</th>\n",
       "      <td>Karl Malone</td>\n",
       "      <td>Utah Jazz</td>\n",
       "      <td>19250000</td>\n",
       "      <td>2003</td>\n",
       "      <td>UTA</td>\n",
       "      <td>UTA-2003</td>\n",
       "    </tr>\n",
       "    <tr>\n",
       "      <th>3</th>\n",
       "      <td>Dikembe Mutombo</td>\n",
       "      <td>New Jersey Nets</td>\n",
       "      <td>16105000</td>\n",
       "      <td>2003</td>\n",
       "      <td>BKN</td>\n",
       "      <td>BKN-2003</td>\n",
       "    </tr>\n",
       "    <tr>\n",
       "      <th>4</th>\n",
       "      <td>Damon Stoudamire</td>\n",
       "      <td>Portland Trail Blazers</td>\n",
       "      <td>13500000</td>\n",
       "      <td>2003</td>\n",
       "      <td>POR</td>\n",
       "      <td>POR-2003</td>\n",
       "    </tr>\n",
       "  </tbody>\n",
       "</table>\n",
       "</div>"
      ],
      "text/plain": [
       "             Player                    Team    Salary  Season  Abb TEAM-SEASON\n",
       "0  Shaquille O'Neal      Los Angeles Lakers  23571000    2003  LAL    LAL-2003\n",
       "1      Juwan Howard          Denver Nuggets  20625000    2003  DEN    DEN-2003\n",
       "2       Karl Malone               Utah Jazz  19250000    2003  UTA    UTA-2003\n",
       "3   Dikembe Mutombo         New Jersey Nets  16105000    2003  BKN    BKN-2003\n",
       "4  Damon Stoudamire  Portland Trail Blazers  13500000    2003  POR    POR-2003"
      ]
     },
     "execution_count": 26,
     "metadata": {},
     "output_type": "execute_result"
    }
   ],
   "source": [
    "individual_salaries.head()"
   ]
  }
 ],
 "metadata": {
  "kernelspec": {
   "display_name": "Python 3 (ipykernel)",
   "language": "python",
   "name": "python3"
  },
  "language_info": {
   "codemirror_mode": {
    "name": "ipython",
    "version": 3
   },
   "file_extension": ".py",
   "mimetype": "text/x-python",
   "name": "python",
   "nbconvert_exporter": "python",
   "pygments_lexer": "ipython3",
   "version": "3.9.12"
  }
 },
 "nbformat": 4,
 "nbformat_minor": 5
}
