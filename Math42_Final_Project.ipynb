{
 "cells": [
  {
   "cell_type": "markdown",
   "id": "40456a94-07cc-436a-8d59-616c3fa316e5",
   "metadata": {},
   "source": [
    "# Math 42 Final Project\n",
    "Finding out if there is a correlation between the amount of money the team has vs. the number of wins over the regular season.\n",
    "\n",
    "There are 82 Regular Season games and success is determined by number of wins\n",
    "\n",
    "Money is going to be compared by the payroll of the players & networth of the team"
   ]
  },
  {
   "cell_type": "code",
   "execution_count": 68,
   "id": "90d27305-94bb-4567-8336-a36a5b1fe445",
   "metadata": {},
   "outputs": [],
   "source": [
    "import numpy as np\n",
    "import pandas as pd\n",
    "import matplotlib.pyplot as plt\n",
    "import seaborn as sns\n",
    "import math"
   ]
  },
  {
   "cell_type": "code",
   "execution_count": 23,
   "id": "e54f12b4-141f-4b85-a977-1252847f9156",
   "metadata": {},
   "outputs": [],
   "source": [
    "individual_salaries = pd.read_csv(\"team_salaries.csv\")\n",
    "all_team_stats = pd.read_csv(\"team_stats.csv\")"
   ]
  },
  {
   "cell_type": "markdown",
   "id": "0ce1b904-75f4-44a8-ad13-e0680f0d09a7",
   "metadata": {},
   "source": [
    "# Data Cleaning"
   ]
  },
  {
   "cell_type": "markdown",
   "id": "2397d53a-6456-4d9d-a149-86941f6f18f7",
   "metadata": {},
   "source": [
    "## Groupby team_salaries Data"
   ]
  },
  {
   "cell_type": "code",
   "execution_count": 36,
   "id": "091b39b5-954b-4c9e-8a4a-37a2444d0ece",
   "metadata": {},
   "outputs": [
    {
     "data": {
      "text/html": [
       "<div>\n",
       "<style scoped>\n",
       "    .dataframe tbody tr th:only-of-type {\n",
       "        vertical-align: middle;\n",
       "    }\n",
       "\n",
       "    .dataframe tbody tr th {\n",
       "        vertical-align: top;\n",
       "    }\n",
       "\n",
       "    .dataframe thead th {\n",
       "        text-align: right;\n",
       "    }\n",
       "</style>\n",
       "<table border=\"1\" class=\"dataframe\">\n",
       "  <thead>\n",
       "    <tr style=\"text-align: right;\">\n",
       "      <th></th>\n",
       "      <th>Team_Season</th>\n",
       "      <th>Total_Salary</th>\n",
       "      <th>Mean_Salary</th>\n",
       "      <th>Median_Salary</th>\n",
       "      <th>STD_Salary</th>\n",
       "    </tr>\n",
       "  </thead>\n",
       "  <tbody>\n",
       "    <tr>\n",
       "      <th>0</th>\n",
       "      <td>ATL-2003</td>\n",
       "      <td>54529000</td>\n",
       "      <td>4.957182e+06</td>\n",
       "      <td>2775000.0</td>\n",
       "      <td>4.098792e+06</td>\n",
       "    </tr>\n",
       "    <tr>\n",
       "      <th>1</th>\n",
       "      <td>ATL-2004</td>\n",
       "      <td>15724000</td>\n",
       "      <td>3.931000e+06</td>\n",
       "      <td>2966500.0</td>\n",
       "      <td>2.533275e+06</td>\n",
       "    </tr>\n",
       "    <tr>\n",
       "      <th>2</th>\n",
       "      <td>ATL-2005</td>\n",
       "      <td>10899000</td>\n",
       "      <td>3.633000e+06</td>\n",
       "      <td>3150000.0</td>\n",
       "      <td>1.015636e+06</td>\n",
       "    </tr>\n",
       "    <tr>\n",
       "      <th>3</th>\n",
       "      <td>ATL-2006</td>\n",
       "      <td>38198405</td>\n",
       "      <td>3.183200e+06</td>\n",
       "      <td>2118600.0</td>\n",
       "      <td>3.393676e+06</td>\n",
       "    </tr>\n",
       "    <tr>\n",
       "      <th>4</th>\n",
       "      <td>ATL-2007</td>\n",
       "      <td>57828414</td>\n",
       "      <td>3.855228e+06</td>\n",
       "      <td>2952840.0</td>\n",
       "      <td>4.021062e+06</td>\n",
       "    </tr>\n",
       "  </tbody>\n",
       "</table>\n",
       "</div>"
      ],
      "text/plain": [
       "  Team_Season  Total_Salary   Mean_Salary  Median_Salary    STD_Salary\n",
       "0    ATL-2003      54529000  4.957182e+06      2775000.0  4.098792e+06\n",
       "1    ATL-2004      15724000  3.931000e+06      2966500.0  2.533275e+06\n",
       "2    ATL-2005      10899000  3.633000e+06      3150000.0  1.015636e+06\n",
       "3    ATL-2006      38198405  3.183200e+06      2118600.0  3.393676e+06\n",
       "4    ATL-2007      57828414  3.855228e+06      2952840.0  4.021062e+06"
      ]
     },
     "execution_count": 36,
     "metadata": {},
     "output_type": "execute_result"
    }
   ],
   "source": [
    "team_salaries = individual_salaries.groupby(\"TEAM-SEASON\").agg({\"Salary\" : [\"sum\", \"mean\", \"median\", \"std\"]})\n",
    "team_salaries.columns = [\"Total_Salary\", \"Mean_Salary\", \"Median_Salary\", \"STD_Salary\"]\n",
    "team_salaries = team_salaries.reset_index()\n",
    "team_salaries.columns = [\"Team_Season\", \"Total_Salary\", \"Mean_Salary\", \"Median_Salary\", \"STD_Salary\"]\n",
    "team_salaries.head()"
   ]
  },
  {
   "cell_type": "markdown",
   "id": "c8966216-5150-4d0f-a6ee-a02c2fcad30f",
   "metadata": {},
   "source": [
    "## Add Team_season variable to team_stats"
   ]
  },
  {
   "cell_type": "code",
   "execution_count": 37,
   "id": "d661b7be-4c47-4cea-861f-eb1579146556",
   "metadata": {},
   "outputs": [
    {
     "data": {
      "text/html": [
       "<div>\n",
       "<style scoped>\n",
       "    .dataframe tbody tr th:only-of-type {\n",
       "        vertical-align: middle;\n",
       "    }\n",
       "\n",
       "    .dataframe tbody tr th {\n",
       "        vertical-align: top;\n",
       "    }\n",
       "\n",
       "    .dataframe thead th {\n",
       "        text-align: right;\n",
       "    }\n",
       "</style>\n",
       "<table border=\"1\" class=\"dataframe\">\n",
       "  <thead>\n",
       "    <tr style=\"text-align: right;\">\n",
       "      <th></th>\n",
       "      <th>team</th>\n",
       "      <th>season</th>\n",
       "      <th>abbreviation</th>\n",
       "      <th>w</th>\n",
       "      <th>playoffs</th>\n",
       "      <th>Team_Season</th>\n",
       "    </tr>\n",
       "  </thead>\n",
       "  <tbody>\n",
       "    <tr>\n",
       "      <th>124</th>\n",
       "      <td>Atlanta Hawks</td>\n",
       "      <td>2019</td>\n",
       "      <td>ATL</td>\n",
       "      <td>29.0</td>\n",
       "      <td>False</td>\n",
       "      <td>ATL-2019</td>\n",
       "    </tr>\n",
       "    <tr>\n",
       "      <th>125</th>\n",
       "      <td>Boston Celtics</td>\n",
       "      <td>2019</td>\n",
       "      <td>BOS</td>\n",
       "      <td>49.0</td>\n",
       "      <td>True</td>\n",
       "      <td>BOS-2019</td>\n",
       "    </tr>\n",
       "    <tr>\n",
       "      <th>126</th>\n",
       "      <td>Brooklyn Nets</td>\n",
       "      <td>2019</td>\n",
       "      <td>BRK</td>\n",
       "      <td>42.0</td>\n",
       "      <td>True</td>\n",
       "      <td>BRK-2019</td>\n",
       "    </tr>\n",
       "    <tr>\n",
       "      <th>127</th>\n",
       "      <td>Chicago Bulls</td>\n",
       "      <td>2019</td>\n",
       "      <td>CHI</td>\n",
       "      <td>22.0</td>\n",
       "      <td>False</td>\n",
       "      <td>CHI-2019</td>\n",
       "    </tr>\n",
       "    <tr>\n",
       "      <th>128</th>\n",
       "      <td>Charlotte Hornets</td>\n",
       "      <td>2019</td>\n",
       "      <td>CHO</td>\n",
       "      <td>39.0</td>\n",
       "      <td>False</td>\n",
       "      <td>CHO-2019</td>\n",
       "    </tr>\n",
       "  </tbody>\n",
       "</table>\n",
       "</div>"
      ],
      "text/plain": [
       "                  team  season abbreviation     w  playoffs Team_Season\n",
       "124      Atlanta Hawks    2019          ATL  29.0     False    ATL-2019\n",
       "125     Boston Celtics    2019          BOS  49.0      True    BOS-2019\n",
       "126      Brooklyn Nets    2019          BRK  42.0      True    BRK-2019\n",
       "127      Chicago Bulls    2019          CHI  22.0     False    CHI-2019\n",
       "128  Charlotte Hornets    2019          CHO  39.0     False    CHO-2019"
      ]
     },
     "execution_count": 37,
     "metadata": {},
     "output_type": "execute_result"
    }
   ],
   "source": [
    "team_stats = all_team_stats[[\"team\", \"season\", \"abbreviation\", \"w\", \"playoffs\"]]\n",
    "team_stats = team_stats[ (team_stats[\"season\"] >= 2003) & (team_stats[\"season\"] <= 2019) ]\n",
    "team_stats[\"Team_Season\"] = team_stats.apply(lambda row: str(row.abbreviation) + \"-\" + str(row.season), axis=1)\n",
    "team_stats.head()"
   ]
  },
  {
   "cell_type": "markdown",
   "id": "55d9fb10-4bee-4dbe-9d9c-7d699eb65b23",
   "metadata": {},
   "source": [
    "## Combine Data"
   ]
  },
  {
   "cell_type": "code",
   "execution_count": 38,
   "id": "c0f148dc-9eb8-4840-a543-1c0d2a793300",
   "metadata": {},
   "outputs": [
    {
     "data": {
      "text/html": [
       "<div>\n",
       "<style scoped>\n",
       "    .dataframe tbody tr th:only-of-type {\n",
       "        vertical-align: middle;\n",
       "    }\n",
       "\n",
       "    .dataframe tbody tr th {\n",
       "        vertical-align: top;\n",
       "    }\n",
       "\n",
       "    .dataframe thead th {\n",
       "        text-align: right;\n",
       "    }\n",
       "</style>\n",
       "<table border=\"1\" class=\"dataframe\">\n",
       "  <thead>\n",
       "    <tr style=\"text-align: right;\">\n",
       "      <th></th>\n",
       "      <th>team</th>\n",
       "      <th>season</th>\n",
       "      <th>abbreviation</th>\n",
       "      <th>w</th>\n",
       "      <th>playoffs</th>\n",
       "      <th>Team_Season</th>\n",
       "      <th>Total_Salary</th>\n",
       "      <th>Mean_Salary</th>\n",
       "      <th>Median_Salary</th>\n",
       "      <th>STD_Salary</th>\n",
       "    </tr>\n",
       "  </thead>\n",
       "  <tbody>\n",
       "    <tr>\n",
       "      <th>0</th>\n",
       "      <td>Atlanta Hawks</td>\n",
       "      <td>2019</td>\n",
       "      <td>ATL</td>\n",
       "      <td>29.0</td>\n",
       "      <td>False</td>\n",
       "      <td>ATL-2019</td>\n",
       "      <td>66443526</td>\n",
       "      <td>3.691307e+06</td>\n",
       "      <td>1942800.0</td>\n",
       "      <td>4.693193e+06</td>\n",
       "    </tr>\n",
       "    <tr>\n",
       "      <th>1</th>\n",
       "      <td>Boston Celtics</td>\n",
       "      <td>2019</td>\n",
       "      <td>BOS</td>\n",
       "      <td>49.0</td>\n",
       "      <td>True</td>\n",
       "      <td>BOS-2019</td>\n",
       "      <td>154255448</td>\n",
       "      <td>9.640966e+06</td>\n",
       "      <td>5181780.0</td>\n",
       "      <td>1.111157e+07</td>\n",
       "    </tr>\n",
       "    <tr>\n",
       "      <th>2</th>\n",
       "      <td>Chicago Bulls</td>\n",
       "      <td>2019</td>\n",
       "      <td>CHI</td>\n",
       "      <td>22.0</td>\n",
       "      <td>False</td>\n",
       "      <td>CHI-2019</td>\n",
       "      <td>80706074</td>\n",
       "      <td>5.044130e+06</td>\n",
       "      <td>2167728.0</td>\n",
       "      <td>5.568329e+06</td>\n",
       "    </tr>\n",
       "    <tr>\n",
       "      <th>3</th>\n",
       "      <td>Cleveland Cavaliers</td>\n",
       "      <td>2019</td>\n",
       "      <td>CLE</td>\n",
       "      <td>19.0</td>\n",
       "      <td>False</td>\n",
       "      <td>CLE-2019</td>\n",
       "      <td>112729947</td>\n",
       "      <td>8.671534e+06</td>\n",
       "      <td>3263294.0</td>\n",
       "      <td>8.748628e+06</td>\n",
       "    </tr>\n",
       "    <tr>\n",
       "      <th>4</th>\n",
       "      <td>Dallas Mavericks</td>\n",
       "      <td>2019</td>\n",
       "      <td>DAL</td>\n",
       "      <td>33.0</td>\n",
       "      <td>False</td>\n",
       "      <td>DAL-2019</td>\n",
       "      <td>49309106</td>\n",
       "      <td>4.109092e+06</td>\n",
       "      <td>2627900.5</td>\n",
       "      <td>3.694928e+06</td>\n",
       "    </tr>\n",
       "  </tbody>\n",
       "</table>\n",
       "</div>"
      ],
      "text/plain": [
       "                  team  season abbreviation     w  playoffs Team_Season  \\\n",
       "0        Atlanta Hawks    2019          ATL  29.0     False    ATL-2019   \n",
       "1       Boston Celtics    2019          BOS  49.0      True    BOS-2019   \n",
       "2        Chicago Bulls    2019          CHI  22.0     False    CHI-2019   \n",
       "3  Cleveland Cavaliers    2019          CLE  19.0     False    CLE-2019   \n",
       "4     Dallas Mavericks    2019          DAL  33.0     False    DAL-2019   \n",
       "\n",
       "   Total_Salary   Mean_Salary  Median_Salary    STD_Salary  \n",
       "0      66443526  3.691307e+06      1942800.0  4.693193e+06  \n",
       "1     154255448  9.640966e+06      5181780.0  1.111157e+07  \n",
       "2      80706074  5.044130e+06      2167728.0  5.568329e+06  \n",
       "3     112729947  8.671534e+06      3263294.0  8.748628e+06  \n",
       "4      49309106  4.109092e+06      2627900.5  3.694928e+06  "
      ]
     },
     "execution_count": 38,
     "metadata": {},
     "output_type": "execute_result"
    }
   ],
   "source": [
    "data = pd.merge(team_stats, team_salaries, on=\"Team_Season\")"
   ]
  },
  {
   "cell_type": "markdown",
   "id": "e2c3f331-4a91-4b02-a63b-a21a1fae7552",
   "metadata": {},
   "source": [
    "## Add Variables"
   ]
  },
  {
   "cell_type": "code",
   "execution_count": 48,
   "id": "623c1711-24b9-4d0d-ab89-96b08e8f46fa",
   "metadata": {},
   "outputs": [],
   "source": [
    "# Adding the Salary Cap Variable\n",
    "salary_cap_conditions = [ \n",
    "    (data[\"season\"] == 2019),\n",
    "    (data[\"season\"] == 2018),\n",
    "    (data[\"season\"] == 2017),\n",
    "    (data[\"season\"] == 2016),\n",
    "    (data[\"season\"] == 2015),\n",
    "    (data[\"season\"] == 2014),\n",
    "    (data[\"season\"] == 2013),\n",
    "    (data[\"season\"] == 2012),\n",
    "    (data[\"season\"] == 2011),\n",
    "    (data[\"season\"] == 2010),\n",
    "    (data[\"season\"] == 2009),\n",
    "    (data[\"season\"] == 2008),\n",
    "    (data[\"season\"] == 2007),\n",
    "    (data[\"season\"] == 2006),\n",
    "    (data[\"season\"] == 2005),\n",
    "    (data[\"season\"] == 2004),\n",
    "    (data[\"season\"] == 2003)\n",
    "]\n",
    "salary_cap_labels = [109140000, 101869000, 99093000, 94143000, 70000000, \n",
    "                     63065000, 58697000, 58044000, 58044000, 58040000, \n",
    "                     57700000, 58680000, 55630000, 53135000, 49500000, \n",
    "                     43870000, 43840000] \n",
    "data[\"Salary_Cap\"] = np.select(salary_cap_conditions, salary_cap_labels)\n",
    "\n",
    "data[\"Above_Salary_Cap\"] = (data[\"Total_Salary\"] - data[\"Salary_Cap\"]) / data[\"Salary_Cap\"]"
   ]
  },
  {
   "cell_type": "code",
   "execution_count": 65,
   "id": "c29d0674-a6f5-48c6-8c76-c675e8e16fcd",
   "metadata": {},
   "outputs": [],
   "source": [
    "# Adding percent of salary Variable\n",
    "all_team_salaries = data.groupby(\"season\")[\"Total_Salary\"].sum()\n",
    "all_team_salaries = all_team_salaries.reset_index()\n",
    "all_team_salaries.columns = [\"season\", \"Season_Salary\"]\n",
    "data = pd.merge(data, all_team_salaries, on=\"season\")\n",
    "\n",
    "data[\"Percent_League_Salary\"] = data[\"Total_Salary\"] / data[\"Season_Salary\"]"
   ]
  },
  {
   "cell_type": "code",
   "execution_count": 66,
   "id": "491bf972-4969-43a3-b610-fbef3465b8e8",
   "metadata": {},
   "outputs": [
    {
     "data": {
      "text/html": [
       "<div>\n",
       "<style scoped>\n",
       "    .dataframe tbody tr th:only-of-type {\n",
       "        vertical-align: middle;\n",
       "    }\n",
       "\n",
       "    .dataframe tbody tr th {\n",
       "        vertical-align: top;\n",
       "    }\n",
       "\n",
       "    .dataframe thead th {\n",
       "        text-align: right;\n",
       "    }\n",
       "</style>\n",
       "<table border=\"1\" class=\"dataframe\">\n",
       "  <thead>\n",
       "    <tr style=\"text-align: right;\">\n",
       "      <th></th>\n",
       "      <th>team</th>\n",
       "      <th>season</th>\n",
       "      <th>abbreviation</th>\n",
       "      <th>w</th>\n",
       "      <th>playoffs</th>\n",
       "      <th>Team_Season</th>\n",
       "      <th>Total_Salary</th>\n",
       "      <th>Mean_Salary</th>\n",
       "      <th>Median_Salary</th>\n",
       "      <th>STD_Salary</th>\n",
       "      <th>Salary_Cap</th>\n",
       "      <th>Above_Salary_Cap</th>\n",
       "      <th>Season_Salary_x</th>\n",
       "      <th>Season_Salary_y</th>\n",
       "      <th>Season_Salary</th>\n",
       "      <th>Percent_League_Salary</th>\n",
       "    </tr>\n",
       "  </thead>\n",
       "  <tbody>\n",
       "    <tr>\n",
       "      <th>0</th>\n",
       "      <td>Atlanta Hawks</td>\n",
       "      <td>2019</td>\n",
       "      <td>ATL</td>\n",
       "      <td>29.0</td>\n",
       "      <td>False</td>\n",
       "      <td>ATL-2019</td>\n",
       "      <td>66443526</td>\n",
       "      <td>3.691307e+06</td>\n",
       "      <td>1942800.0</td>\n",
       "      <td>4.693193e+06</td>\n",
       "      <td>109140000</td>\n",
       "      <td>-0.391208</td>\n",
       "      <td>3599744086</td>\n",
       "      <td>3599744086</td>\n",
       "      <td>3599744086</td>\n",
       "      <td>0.018458</td>\n",
       "    </tr>\n",
       "    <tr>\n",
       "      <th>1</th>\n",
       "      <td>Boston Celtics</td>\n",
       "      <td>2019</td>\n",
       "      <td>BOS</td>\n",
       "      <td>49.0</td>\n",
       "      <td>True</td>\n",
       "      <td>BOS-2019</td>\n",
       "      <td>154255448</td>\n",
       "      <td>9.640966e+06</td>\n",
       "      <td>5181780.0</td>\n",
       "      <td>1.111157e+07</td>\n",
       "      <td>109140000</td>\n",
       "      <td>0.413372</td>\n",
       "      <td>3599744086</td>\n",
       "      <td>3599744086</td>\n",
       "      <td>3599744086</td>\n",
       "      <td>0.042852</td>\n",
       "    </tr>\n",
       "    <tr>\n",
       "      <th>2</th>\n",
       "      <td>Chicago Bulls</td>\n",
       "      <td>2019</td>\n",
       "      <td>CHI</td>\n",
       "      <td>22.0</td>\n",
       "      <td>False</td>\n",
       "      <td>CHI-2019</td>\n",
       "      <td>80706074</td>\n",
       "      <td>5.044130e+06</td>\n",
       "      <td>2167728.0</td>\n",
       "      <td>5.568329e+06</td>\n",
       "      <td>109140000</td>\n",
       "      <td>-0.260527</td>\n",
       "      <td>3599744086</td>\n",
       "      <td>3599744086</td>\n",
       "      <td>3599744086</td>\n",
       "      <td>0.022420</td>\n",
       "    </tr>\n",
       "    <tr>\n",
       "      <th>3</th>\n",
       "      <td>Cleveland Cavaliers</td>\n",
       "      <td>2019</td>\n",
       "      <td>CLE</td>\n",
       "      <td>19.0</td>\n",
       "      <td>False</td>\n",
       "      <td>CLE-2019</td>\n",
       "      <td>112729947</td>\n",
       "      <td>8.671534e+06</td>\n",
       "      <td>3263294.0</td>\n",
       "      <td>8.748628e+06</td>\n",
       "      <td>109140000</td>\n",
       "      <td>0.032893</td>\n",
       "      <td>3599744086</td>\n",
       "      <td>3599744086</td>\n",
       "      <td>3599744086</td>\n",
       "      <td>0.031316</td>\n",
       "    </tr>\n",
       "    <tr>\n",
       "      <th>4</th>\n",
       "      <td>Dallas Mavericks</td>\n",
       "      <td>2019</td>\n",
       "      <td>DAL</td>\n",
       "      <td>33.0</td>\n",
       "      <td>False</td>\n",
       "      <td>DAL-2019</td>\n",
       "      <td>49309106</td>\n",
       "      <td>4.109092e+06</td>\n",
       "      <td>2627900.5</td>\n",
       "      <td>3.694928e+06</td>\n",
       "      <td>109140000</td>\n",
       "      <td>-0.548203</td>\n",
       "      <td>3599744086</td>\n",
       "      <td>3599744086</td>\n",
       "      <td>3599744086</td>\n",
       "      <td>0.013698</td>\n",
       "    </tr>\n",
       "  </tbody>\n",
       "</table>\n",
       "</div>"
      ],
      "text/plain": [
       "                  team  season abbreviation     w  playoffs Team_Season  \\\n",
       "0        Atlanta Hawks    2019          ATL  29.0     False    ATL-2019   \n",
       "1       Boston Celtics    2019          BOS  49.0      True    BOS-2019   \n",
       "2        Chicago Bulls    2019          CHI  22.0     False    CHI-2019   \n",
       "3  Cleveland Cavaliers    2019          CLE  19.0     False    CLE-2019   \n",
       "4     Dallas Mavericks    2019          DAL  33.0     False    DAL-2019   \n",
       "\n",
       "   Total_Salary   Mean_Salary  Median_Salary    STD_Salary  Salary_Cap  \\\n",
       "0      66443526  3.691307e+06      1942800.0  4.693193e+06   109140000   \n",
       "1     154255448  9.640966e+06      5181780.0  1.111157e+07   109140000   \n",
       "2      80706074  5.044130e+06      2167728.0  5.568329e+06   109140000   \n",
       "3     112729947  8.671534e+06      3263294.0  8.748628e+06   109140000   \n",
       "4      49309106  4.109092e+06      2627900.5  3.694928e+06   109140000   \n",
       "\n",
       "   Above_Salary_Cap  Season_Salary_x  Season_Salary_y  Season_Salary  \\\n",
       "0         -0.391208       3599744086       3599744086     3599744086   \n",
       "1          0.413372       3599744086       3599744086     3599744086   \n",
       "2         -0.260527       3599744086       3599744086     3599744086   \n",
       "3          0.032893       3599744086       3599744086     3599744086   \n",
       "4         -0.548203       3599744086       3599744086     3599744086   \n",
       "\n",
       "   Percent_League_Salary  \n",
       "0               0.018458  \n",
       "1               0.042852  \n",
       "2               0.022420  \n",
       "3               0.031316  \n",
       "4               0.013698  "
      ]
     },
     "execution_count": 66,
     "metadata": {},
     "output_type": "execute_result"
    }
   ],
   "source": [
    "data = data.dropna()\n",
    "data.head()"
   ]
  },
  {
   "cell_type": "code",
   "execution_count": 63,
   "id": "9344ba37-f056-43ad-bf77-f267e12ab801",
   "metadata": {},
   "outputs": [],
   "source": [
    "data.to_csv(\"salaries_team_data.csv\", index = False)"
   ]
  },
  {
   "cell_type": "markdown",
   "id": "8f5a3813-727a-4d71-9dce-a8f059a77838",
   "metadata": {},
   "source": [
    "# Compare STD vs. Wins"
   ]
  },
  {
   "cell_type": "code",
   "execution_count": 44,
   "id": "93a2bf45-ee35-430c-a03b-222c101fc05a",
   "metadata": {},
   "outputs": [
    {
     "data": {
      "text/plain": [
       "<matplotlib.collections.PathCollection at 0x255745b26d0>"
      ]
     },
     "execution_count": 44,
     "metadata": {},
     "output_type": "execute_result"
    },
    {
     "data": {
      "image/png": "[encoded data removed]",
      "text/plain": [
       "<Figure size 432x288 with 1 Axes>"
      ]
     },
     "metadata": {
      "needs_background": "light"
     },
     "output_type": "display_data"
    }
   ],
   "source": [
    "plt.scatter(data.Total_Salary, data.w)"
   ]
  },
  {
   "cell_type": "code",
   "execution_count": 43,
   "id": "67a4467f-c5f3-4e39-bc2f-e41b10440576",
   "metadata": {},
   "outputs": [
    {
     "data": {
      "text/plain": [
       "<matplotlib.collections.PathCollection at 0x25574544f40>"
      ]
     },
     "execution_count": 43,
     "metadata": {},
     "output_type": "execute_result"
    },
    {
     "data": {
      "image/png": "[encoded data removed]",
      "text/plain": [
       "<Figure size 432x288 with 1 Axes>"
      ]
     },
     "metadata": {
      "needs_background": "light"
     },
     "output_type": "display_data"
    }
   ],
   "source": [
    "plt.scatter(data.STD_Salary, data.w)"
   ]
  },
  {
   "cell_type": "code",
   "execution_count": 52,
   "id": "bffb190f-c980-45e2-beae-a8510fc15ccc",
   "metadata": {},
   "outputs": [
    {
     "data": {
      "text/plain": [
       "<matplotlib.collections.PathCollection at 0x2557470ce20>"
      ]
     },
     "execution_count": 52,
     "metadata": {},
     "output_type": "execute_result"
    },
    {
     "data": {
      "image/png": "[encoded data removed]",
      "text/plain": [
       "<Figure size 432x288 with 1 Axes>"
      ]
     },
     "metadata": {
      "needs_background": "light"
     },
     "output_type": "display_data"
    }
   ],
   "source": [
    "plt.scatter(data.Above_Salary_Cap, data.w)"
   ]
  },
  {
   "cell_type": "code",
   "execution_count": 45,
   "id": "f0a85654-d83c-428f-8a37-2e6529d66bfb",
   "metadata": {},
   "outputs": [
    {
     "data": {
      "text/plain": [
       "<matplotlib.collections.PathCollection at 0x2557460b2e0>"
      ]
     },
     "execution_count": 45,
     "metadata": {},
     "output_type": "execute_result"
    },
    {
     "data": {
      "image/png": "[encoded data removed]",
      "text/plain": [
       "<Figure size 432x288 with 1 Axes>"
      ]
     },
     "metadata": {
      "needs_background": "light"
     },
     "output_type": "display_data"
    }
   ],
   "source": [
    "plt.scatter(data.Mean_Salary, data.w)"
   ]
  },
  {
   "cell_type": "code",
   "execution_count": 67,
   "id": "92e981a3-bc58-42af-9b26-661d33397e21",
   "metadata": {},
   "outputs": [
    {
     "data": {
      "text/plain": [
       "<matplotlib.collections.PathCollection at 0x25576862580>"
      ]
     },
     "execution_count": 67,
     "metadata": {},
     "output_type": "execute_result"
    },
    {
     "data": {
      "image/png": "[encoded data removed]",
      "text/plain": [
       "<Figure size 432x288 with 1 Axes>"
      ]
     },
     "metadata": {
      "needs_background": "light"
     },
     "output_type": "display_data"
    }
   ],
   "source": [
    "plt.scatter(data.Percent_League_Salary, data.w)"
   ]
  },
  {
   "cell_type": "markdown",
   "id": "783ae9c9-4308-49ce-8a56-00873f7ec8b1",
   "metadata": {},
   "source": [
    "# Fitting Curve"
   ]
  },
  {
   "cell_type": "code",
   "execution_count": 70,
   "id": "d2c683a6-6073-49e3-8794-020c699683a5",
   "metadata": {},
   "outputs": [],
   "source": [
    "from numpy import array, exp\n",
    "from scipy.optimize import curve_fit\n",
    "import matplotlib.pyplot as plt "
   ]
  },
  {
   "cell_type": "code",
   "execution_count": 88,
   "id": "5f224f2b-1e35-4916-ac3e-7cbb48da1ee8",
   "metadata": {},
   "outputs": [],
   "source": [
    "def func1(x, a, b, c):\n",
    "    return a*x**2+b*x+c\n",
    "data = data.sort_values(by = \"Mean_Salary\")\n",
    "\n",
    "params, covs = curve_fit(func1, data.Mean_Salary, data.w)"
   ]
  },
  {
   "cell_type": "code",
   "execution_count": 89,
   "id": "b72a5d03-5704-4032-b814-10f60dc0ed2f",
   "metadata": {},
   "outputs": [
    {
     "name": "stdout",
     "output_type": "stream",
     "text": [
      "params:  [-5.03963480e-13  8.60202898e-06  1.26971755e+01]\n",
      "covariance:  [[ 1.16095052e-26 -1.41604815e-19  3.79495459e-13]\n",
      " [-1.41604815e-19  1.83493250e-12 -5.14244822e-06]\n",
      " [ 3.79495459e-13 -5.14244822e-06  1.51482494e+01]]\n"
     ]
    }
   ],
   "source": [
    "print(\"params: \", params) \n",
    "print(\"covariance: \", covs) \n",
    "\n",
    "params, _ = curve_fit(func1, data.Mean_Salary, data.w)\n",
    "a, b, c = params[0], params[1], params[2]\n",
    "yfit1 = a*data.Mean_Salary**2+b*data.Mean_Salary+c"
   ]
  },
  {
   "cell_type": "code",
   "execution_count": 92,
   "id": "ad29fc19-11e8-41d4-aab8-a833509c519f",
   "metadata": {},
   "outputs": [
    {
     "data": {
      "image/png": "[encoded data removed]",
      "text/plain": [
       "<Figure size 432x288 with 1 Axes>"
      ]
     },
     "metadata": {
      "needs_background": "light"
     },
     "output_type": "display_data"
    }
   ],
   "source": [
    "plt.plot(data.Mean_Salary, data.w, 'bo', label=\"y-original\")\n",
    "plt.plot(data.Mean_Salary, yfit1, label=\"y=a*x^2+b*x+c\")\n",
    "plt.legend()\n",
    "plt.show()"
   ]
  },
  {
   "cell_type": "code",
   "execution_count": 103,
   "id": "6f03ef00-ce2b-4d1d-a126-e7e738a6e811",
   "metadata": {},
   "outputs": [
    {
     "name": "stderr",
     "output_type": "stream",
     "text": [
      "C:\\Users\\derek\\anaconda3\\lib\\site-packages\\pandas\\core\\arraylike.py:397: RuntimeWarning: invalid value encountered in log\n",
      "  result = getattr(ufunc, method)(*inputs, **kwargs)\n"
     ]
    },
    {
     "data": {
      "image/png": "[encoded data removed]",
      "text/plain": [
       "<Figure size 432x288 with 1 Axes>"
      ]
     },
     "metadata": {
      "needs_background": "light"
     },
     "output_type": "display_data"
    }
   ],
   "source": [
    "def func(x, a, b, c):\n",
    "  #return a * np.exp(-b * x) + c\n",
    "  return a * np.log(b * x) + c\n",
    "\n",
    "popt, pcov = curve_fit(func, data.Mean_Salary, data.w)\n",
    "plt.figure()\n",
    "plt.plot(data.Mean_Salary, data.w, 'ko', label=\"Original Noised Data\")\n",
    "plt.plot(data.Mean_Salary, func(data.Mean_Salary, *popt), 'r-', label=\"Fitted Curve\")\n",
    "plt.legend()\n",
    "plt.show()"
   ]
  },
  {
   "cell_type": "markdown",
   "id": "95260285-07ec-4f37-80ad-fc6a42c59e20",
   "metadata": {},
   "source": [
    "# Machine Learning"
   ]
  },
  {
   "cell_type": "code",
   "execution_count": 93,
   "id": "e4d32459-cd6e-4306-afab-e2c526ee38e4",
   "metadata": {},
   "outputs": [],
   "source": [
    "from sklearn import linear_model\n",
    "import statsmodels.api as sm"
   ]
  },
  {
   "cell_type": "code",
   "execution_count": 111,
   "id": "1a602616-5074-4fc3-b019-4f74874a03a4",
   "metadata": {},
   "outputs": [
    {
     "name": "stdout",
     "output_type": "stream",
     "text": [
      "[ 1.48846238e+01  1.52230978e-04 -5.64066395e+01]\n",
      "[[ 3.02984136e+00  5.92925130e+00 -5.78580111e+05]\n",
      " [ 5.92924416e+00  1.77069173e+04 -1.72779314e+09]\n",
      " [-5.78579415e+05 -1.72779314e+09  1.68593384e+14]]\n",
      "Intercept: \n",
      " 27.810487089446006\n",
      "Coefficients: \n",
      " [2.74037194e-06]\n",
      "                            OLS Regression Results                            \n",
      "==============================================================================\n",
      "Dep. Variable:            Mean_Salary   R-squared:                       0.944\n",
      "Model:                            OLS   Adj. R-squared:                  0.944\n",
      "Method:                 Least Squares   F-statistic:                     7561.\n",
      "Date:                Mon, 28 Nov 2022   Prob (F-statistic):          3.16e-282\n",
      "Time:                        16:00:20   Log-Likelihood:                -680.56\n",
      "No. Observations:                 449   AIC:                             1365.\n",
      "Df Residuals:                     447   BIC:                             1373.\n",
      "Df Model:                           1                                         \n",
      "Covariance Type:            nonrobust                                         \n",
      "===============================================================================\n",
      "                  coef    std err          t      P>|t|      [0.025      0.975]\n",
      "-------------------------------------------------------------------------------\n",
      "const          27.8105      0.159    174.875      0.000      27.498      28.123\n",
      "Mean_Salary   2.74e-06   3.15e-08     86.952      0.000    2.68e-06     2.8e-06\n",
      "==============================================================================\n",
      "Omnibus:                      274.452   Durbin-Watson:                   0.029\n",
      "Prob(Omnibus):                  0.000   Jarque-Bera (JB):             2396.938\n",
      "Skew:                          -2.570   Prob(JB):                         0.00\n",
      "Kurtosis:                      13.084   Cond. No.                     1.54e+07\n",
      "==============================================================================\n",
      "\n",
      "Notes:\n",
      "[1] Standard Errors assume that the covariance matrix of the errors is correctly specified.\n",
      "[2] The condition number is large, 1.54e+07. This might indicate that there are\n",
      "strong multicollinearity or other numerical problems.\n"
     ]
    },
    {
     "name": "stderr",
     "output_type": "stream",
     "text": [
      "C:\\Users\\derek\\anaconda3\\lib\\site-packages\\pandas\\core\\arraylike.py:397: RuntimeWarning: invalid value encountered in log\n",
      "  result = getattr(ufunc, method)(*inputs, **kwargs)\n"
     ]
    }
   ],
   "source": [
    "def func(x, a, b, c):\n",
    "  #return a * np.exp(-b * x) + c\n",
    "  return a * np.log(b * x) + c\n",
    "popt, pcov = curve_fit(func, data.Mean_Salary, data.w)\n",
    "\n",
    "\n",
    "x = data[[\"Mean_Salary\"]]\n",
    "y = func(data.Mean_Salary, *popt)\n",
    "regr = linear_model.LinearRegression()\n",
    "regr.fit(x, y)\n",
    "\n",
    "print('Intercept: \\n', regr.intercept_)\n",
    "print('Coefficients: \\n', regr.coef_)\n",
    "\n",
    "# with statsmodels\n",
    "x = sm.add_constant(x) # adding a constant\n",
    " \n",
    "model = sm.OLS(y, x).fit()\n",
    "#predictions = model.predict(this_season) \n",
    " \n",
    "print_model = model.summary()\n",
    "print(print_model)"
   ]
  },
  {
   "cell_type": "code",
   "execution_count": 109,
   "id": "4cc88adc-bcc5-4284-90bc-cf757aea50a5",
   "metadata": {},
   "outputs": [
    {
     "name": "stdout",
     "output_type": "stream",
     "text": [
      "a = -5.039634802522792e-13,  b = 8.6020289770133e-06, c = 12.697175532322944\n",
      "Intercept: \n",
      " 29.170905238798756\n",
      "Coefficients: \n",
      " [2.45502672e-06]\n",
      "                            OLS Regression Results                            \n",
      "==============================================================================\n",
      "Dep. Variable:            Mean_Salary   R-squared:                       0.719\n",
      "Model:                            OLS   Adj. R-squared:                  0.718\n",
      "Method:                 Least Squares   F-statistic:                     1143.\n",
      "Date:                Mon, 28 Nov 2022   Prob (F-statistic):          2.97e-125\n",
      "Time:                        15:46:31   Log-Likelihood:                -1055.3\n",
      "No. Observations:                 449   AIC:                             2115.\n",
      "Df Residuals:                     447   BIC:                             2123.\n",
      "Df Model:                           1                                         \n",
      "Covariance Type:            nonrobust                                         \n",
      "===============================================================================\n",
      "                  coef    std err          t      P>|t|      [0.025      0.975]\n",
      "-------------------------------------------------------------------------------\n",
      "const          29.1709      0.366     79.613      0.000      28.451      29.891\n",
      "Mean_Salary  2.455e-06   7.26e-08     33.810      0.000    2.31e-06     2.6e-06\n",
      "==============================================================================\n",
      "Omnibus:                      459.305   Durbin-Watson:                   0.069\n",
      "Prob(Omnibus):                  0.000   Jarque-Bera (JB):            23642.275\n",
      "Skew:                          -4.439   Prob(JB):                         0.00\n",
      "Kurtosis:                      37.422   Cond. No.                     1.54e+07\n",
      "==============================================================================\n",
      "\n",
      "Notes:\n",
      "[1] Standard Errors assume that the covariance matrix of the errors is correctly specified.\n",
      "[2] The condition number is large, 1.54e+07. This might indicate that there are\n",
      "strong multicollinearity or other numerical problems.\n"
     ]
    }
   ],
   "source": [
    "params, _ = curve_fit(func1, data.Mean_Salary, data.w)\n",
    "a, b, c = params[0], params[1], params[2]\n",
    "yfit1 = a*data.Mean_Salary**2+b*data.Mean_Salary+c\n",
    "\n",
    "print(\"a = \" + str(a) + \",  b = \" + str(b) + \", c = \" + str(c))\n",
    "\n",
    "x = data[[\"Mean_Salary\"]]\n",
    "y = yfit1\n",
    "\n",
    "regr = linear_model.LinearRegression()\n",
    "regr.fit(x, y)\n",
    "\n",
    "print('Intercept: \\n', regr.intercept_)\n",
    "print('Coefficients: \\n', regr.coef_)\n",
    "\n",
    "# with statsmodels\n",
    "x = sm.add_constant(x) # adding a constant\n",
    " \n",
    "model = sm.OLS(y, x).fit()\n",
    "#predictions = model.predict(this_season) \n",
    " \n",
    "print_model = model.summary()\n",
    "print(print_model)"
   ]
  },
  {
   "cell_type": "markdown",
   "id": "4577f5c3-0d72-4b34-ba24-f63e576a572d",
   "metadata": {},
   "source": [
    "# Machine Learning 2"
   ]
  },
  {
   "cell_type": "code",
   "execution_count": 114,
   "id": "5e1504e0-194a-4cad-a367-726de12b439b",
   "metadata": {},
   "outputs": [
    {
     "name": "stderr",
     "output_type": "stream",
     "text": [
      "C:\\Users\\derek\\anaconda3\\lib\\site-packages\\pandas\\core\\arraylike.py:397: RuntimeWarning: invalid value encountered in log\n",
      "  result = getattr(ufunc, method)(*inputs, **kwargs)\n"
     ]
    },
    {
     "data": {
      "image/png": "[encoded data removed]",
      "text/plain": [
       "<Figure size 432x288 with 1 Axes>"
      ]
     },
     "metadata": {
      "needs_background": "light"
     },
     "output_type": "display_data"
    }
   ],
   "source": [
    "def func(x, a, b, c):\n",
    "  #return a * np.exp(-b * x) + c\n",
    "  return a * np.log(b * x) + c\n",
    "\n",
    "data = data.sort_values(by = \"STD_Salary\")\n",
    "popt, pcov = curve_fit(func, data.STD_Salary, data.w)\n",
    "plt.figure()\n",
    "plt.plot(data.STD_Salary, data.w, 'ko', label=\"Original Noised Data\")\n",
    "plt.plot(data.STD_Salary, func(data.STD_Salary, *popt), 'r-', label=\"Fitted Curve\")\n",
    "plt.legend()\n",
    "plt.show()"
   ]
  },
  {
   "cell_type": "code",
   "execution_count": 115,
   "id": "d4b8ea72-5673-4c27-a7f8-28ba56ffbb5a",
   "metadata": {},
   "outputs": [
    {
     "name": "stderr",
     "output_type": "stream",
     "text": [
      "C:\\Users\\derek\\anaconda3\\lib\\site-packages\\pandas\\core\\arraylike.py:397: RuntimeWarning: invalid value encountered in log\n",
      "  result = getattr(ufunc, method)(*inputs, **kwargs)\n"
     ]
    },
    {
     "name": "stdout",
     "output_type": "stream",
     "text": [
      "Intercept: \n",
      " 32.526258755632824\n",
      "Coefficients: \n",
      " [1.75116254e-06]\n",
      "                            OLS Regression Results                            \n",
      "==============================================================================\n",
      "Dep. Variable:             STD_Salary   R-squared:                       0.447\n",
      "Model:                            OLS   Adj. R-squared:                  0.445\n",
      "Method:                 Least Squares   F-statistic:                     360.7\n",
      "Date:                Mon, 28 Nov 2022   Prob (F-statistic):           2.09e-59\n",
      "Time:                        16:05:36   Log-Likelihood:                -1162.6\n",
      "No. Observations:                 449   AIC:                             2329.\n",
      "Df Residuals:                     447   BIC:                             2337.\n",
      "Df Model:                           1                                         \n",
      "Covariance Type:            nonrobust                                         \n",
      "===============================================================================\n",
      "                  coef    std err          t      P>|t|      [0.025      0.975]\n",
      "-------------------------------------------------------------------------------\n",
      "const          32.5263      0.465     69.911      0.000      31.612      33.441\n",
      "Mean_Salary  1.751e-06   9.22e-08     18.993      0.000    1.57e-06    1.93e-06\n",
      "==============================================================================\n",
      "Omnibus:                      208.496   Durbin-Watson:                   0.675\n",
      "Prob(Omnibus):                  0.000   Jarque-Bera (JB):             1372.198\n",
      "Skew:                          -1.897   Prob(JB):                    1.07e-298\n",
      "Kurtosis:                      10.678   Cond. No.                     1.54e+07\n",
      "==============================================================================\n",
      "\n",
      "Notes:\n",
      "[1] Standard Errors assume that the covariance matrix of the errors is correctly specified.\n",
      "[2] The condition number is large, 1.54e+07. This might indicate that there are\n",
      "strong multicollinearity or other numerical problems.\n"
     ]
    }
   ],
   "source": [
    "def func(x, a, b, c):\n",
    "  #return a * np.exp(-b * x) + c\n",
    "  return a * np.log(b * x) + c\n",
    "popt, pcov = curve_fit(func, data.STD_Salary, data.w)\n",
    "\n",
    "\n",
    "x = data[[\"Mean_Salary\"]]\n",
    "y = func(data.STD_Salary, *popt)\n",
    "regr = linear_model.LinearRegression()\n",
    "regr.fit(x, y)\n",
    "\n",
    "print('Intercept: \\n', regr.intercept_)\n",
    "print('Coefficients: \\n', regr.coef_)\n",
    "\n",
    "# with statsmodels\n",
    "x = sm.add_constant(x) # adding a constant\n",
    " \n",
    "model = sm.OLS(y, x).fit()\n",
    "#predictions = model.predict(this_season) \n",
    " \n",
    "print_model = model.summary()\n",
    "print(print_model)"
   ]
  },
  {
   "cell_type": "code",
   "execution_count": null,
   "id": "41cd54da-9496-41b4-b236-681a8d915158",
   "metadata": {},
   "outputs": [],
   "source": []
  },
  {
   "cell_type": "code",
   "execution_count": null,
   "id": "9eec8ea7-bdb4-4cf7-a218-1c71c34d41c9",
   "metadata": {},
   "outputs": [],
   "source": []
  },
  {
   "cell_type": "code",
   "execution_count": null,
   "id": "5cb55ee5-3279-4a64-a2fa-5aca072cf077",
   "metadata": {},
   "outputs": [],
   "source": []
  },
  {
   "cell_type": "markdown",
   "id": "cf46d3ca-c978-4671-a74d-b161a52dbd59",
   "metadata": {},
   "source": [
    "# Original Data Sets"
   ]
  },
  {
   "cell_type": "code",
   "execution_count": 25,
   "id": "85186485-9d04-408e-872b-cbcbf7f2a02d",
   "metadata": {},
   "outputs": [
    {
     "data": {
      "text/html": [
       "<div>\n",
       "<style scoped>\n",
       "    .dataframe tbody tr th:only-of-type {\n",
       "        vertical-align: middle;\n",
       "    }\n",
       "\n",
       "    .dataframe tbody tr th {\n",
       "        vertical-align: top;\n",
       "    }\n",
       "\n",
       "    .dataframe thead th {\n",
       "        text-align: right;\n",
       "    }\n",
       "</style>\n",
       "<table border=\"1\" class=\"dataframe\">\n",
       "  <thead>\n",
       "    <tr style=\"text-align: right;\">\n",
       "      <th></th>\n",
       "      <th>season</th>\n",
       "      <th>lg</th>\n",
       "      <th>team</th>\n",
       "      <th>abbreviation</th>\n",
       "      <th>playoffs</th>\n",
       "      <th>age</th>\n",
       "      <th>w</th>\n",
       "      <th>l</th>\n",
       "      <th>pw</th>\n",
       "      <th>pl</th>\n",
       "      <th>...</th>\n",
       "      <th>tov_percent</th>\n",
       "      <th>orb_percent</th>\n",
       "      <th>ft_fga</th>\n",
       "      <th>opp_e_fg_percent</th>\n",
       "      <th>opp_tov_percent</th>\n",
       "      <th>opp_drb_percent</th>\n",
       "      <th>opp_ft_fga</th>\n",
       "      <th>arena</th>\n",
       "      <th>attend</th>\n",
       "      <th>attend_g</th>\n",
       "    </tr>\n",
       "  </thead>\n",
       "  <tbody>\n",
       "    <tr>\n",
       "      <th>0</th>\n",
       "      <td>2023</td>\n",
       "      <td>NBA</td>\n",
       "      <td>Atlanta Hawks</td>\n",
       "      <td>ATL</td>\n",
       "      <td>False</td>\n",
       "      <td>25.5</td>\n",
       "      <td>4.0</td>\n",
       "      <td>3.0</td>\n",
       "      <td>3.0</td>\n",
       "      <td>4.0</td>\n",
       "      <td>...</td>\n",
       "      <td>11.1</td>\n",
       "      <td>22.4</td>\n",
       "      <td>0.194</td>\n",
       "      <td>0.525</td>\n",
       "      <td>11.5</td>\n",
       "      <td>72.2</td>\n",
       "      <td>0.250</td>\n",
       "      <td>State Farm Arena</td>\n",
       "      <td>53083.0</td>\n",
       "      <td>17694.0</td>\n",
       "    </tr>\n",
       "    <tr>\n",
       "      <th>1</th>\n",
       "      <td>2023</td>\n",
       "      <td>NBA</td>\n",
       "      <td>Boston Celtics</td>\n",
       "      <td>BOS</td>\n",
       "      <td>False</td>\n",
       "      <td>27.6</td>\n",
       "      <td>4.0</td>\n",
       "      <td>2.0</td>\n",
       "      <td>3.0</td>\n",
       "      <td>3.0</td>\n",
       "      <td>...</td>\n",
       "      <td>12.7</td>\n",
       "      <td>19.1</td>\n",
       "      <td>0.226</td>\n",
       "      <td>0.532</td>\n",
       "      <td>10.8</td>\n",
       "      <td>74.9</td>\n",
       "      <td>0.212</td>\n",
       "      <td>TD Garden</td>\n",
       "      <td>57468.0</td>\n",
       "      <td>19156.0</td>\n",
       "    </tr>\n",
       "    <tr>\n",
       "      <th>2</th>\n",
       "      <td>2023</td>\n",
       "      <td>NBA</td>\n",
       "      <td>Brooklyn Nets</td>\n",
       "      <td>BRK</td>\n",
       "      <td>False</td>\n",
       "      <td>28.8</td>\n",
       "      <td>2.0</td>\n",
       "      <td>5.0</td>\n",
       "      <td>2.0</td>\n",
       "      <td>5.0</td>\n",
       "      <td>...</td>\n",
       "      <td>12.6</td>\n",
       "      <td>21.3</td>\n",
       "      <td>0.250</td>\n",
       "      <td>0.556</td>\n",
       "      <td>13.4</td>\n",
       "      <td>70.2</td>\n",
       "      <td>0.224</td>\n",
       "      <td>Barclays Center</td>\n",
       "      <td>87276.0</td>\n",
       "      <td>17455.0</td>\n",
       "    </tr>\n",
       "    <tr>\n",
       "      <th>3</th>\n",
       "      <td>2023</td>\n",
       "      <td>NBA</td>\n",
       "      <td>Chicago Bulls</td>\n",
       "      <td>CHI</td>\n",
       "      <td>False</td>\n",
       "      <td>28.0</td>\n",
       "      <td>3.0</td>\n",
       "      <td>4.0</td>\n",
       "      <td>3.0</td>\n",
       "      <td>4.0</td>\n",
       "      <td>...</td>\n",
       "      <td>12.7</td>\n",
       "      <td>24.6</td>\n",
       "      <td>0.269</td>\n",
       "      <td>0.564</td>\n",
       "      <td>15.9</td>\n",
       "      <td>79.9</td>\n",
       "      <td>0.201</td>\n",
       "      <td>United Center</td>\n",
       "      <td>76078.0</td>\n",
       "      <td>19020.0</td>\n",
       "    </tr>\n",
       "    <tr>\n",
       "      <th>4</th>\n",
       "      <td>2023</td>\n",
       "      <td>NBA</td>\n",
       "      <td>Charlotte Hornets</td>\n",
       "      <td>CHO</td>\n",
       "      <td>False</td>\n",
       "      <td>26.2</td>\n",
       "      <td>3.0</td>\n",
       "      <td>4.0</td>\n",
       "      <td>4.0</td>\n",
       "      <td>3.0</td>\n",
       "      <td>...</td>\n",
       "      <td>12.5</td>\n",
       "      <td>24.4</td>\n",
       "      <td>0.184</td>\n",
       "      <td>0.512</td>\n",
       "      <td>12.1</td>\n",
       "      <td>74.8</td>\n",
       "      <td>0.222</td>\n",
       "      <td>Spectrum Center</td>\n",
       "      <td>50386.0</td>\n",
       "      <td>16795.0</td>\n",
       "    </tr>\n",
       "  </tbody>\n",
       "</table>\n",
       "<p>5 rows × 31 columns</p>\n",
       "</div>"
      ],
      "text/plain": [
       "   season   lg               team abbreviation  playoffs   age    w    l   pw  \\\n",
       "0    2023  NBA      Atlanta Hawks          ATL     False  25.5  4.0  3.0  3.0   \n",
       "1    2023  NBA     Boston Celtics          BOS     False  27.6  4.0  2.0  3.0   \n",
       "2    2023  NBA      Brooklyn Nets          BRK     False  28.8  2.0  5.0  2.0   \n",
       "3    2023  NBA      Chicago Bulls          CHI     False  28.0  3.0  4.0  3.0   \n",
       "4    2023  NBA  Charlotte Hornets          CHO     False  26.2  3.0  4.0  4.0   \n",
       "\n",
       "    pl  ...  tov_percent  orb_percent  ft_fga  opp_e_fg_percent  \\\n",
       "0  4.0  ...         11.1         22.4   0.194             0.525   \n",
       "1  3.0  ...         12.7         19.1   0.226             0.532   \n",
       "2  5.0  ...         12.6         21.3   0.250             0.556   \n",
       "3  4.0  ...         12.7         24.6   0.269             0.564   \n",
       "4  3.0  ...         12.5         24.4   0.184             0.512   \n",
       "\n",
       "   opp_tov_percent  opp_drb_percent  opp_ft_fga             arena   attend  \\\n",
       "0             11.5             72.2       0.250  State Farm Arena  53083.0   \n",
       "1             10.8             74.9       0.212         TD Garden  57468.0   \n",
       "2             13.4             70.2       0.224   Barclays Center  87276.0   \n",
       "3             15.9             79.9       0.201     United Center  76078.0   \n",
       "4             12.1             74.8       0.222   Spectrum Center  50386.0   \n",
       "\n",
       "   attend_g  \n",
       "0   17694.0  \n",
       "1   19156.0  \n",
       "2   17455.0  \n",
       "3   19020.0  \n",
       "4   16795.0  \n",
       "\n",
       "[5 rows x 31 columns]"
      ]
     },
     "execution_count": 25,
     "metadata": {},
     "output_type": "execute_result"
    }
   ],
   "source": [
    "all_team_stats.head()"
   ]
  },
  {
   "cell_type": "code",
   "execution_count": 26,
   "id": "df31a671-3d64-48b8-93d0-2ca505fd8365",
   "metadata": {},
   "outputs": [
    {
     "data": {
      "text/html": [
       "<div>\n",
       "<style scoped>\n",
       "    .dataframe tbody tr th:only-of-type {\n",
       "        vertical-align: middle;\n",
       "    }\n",
       "\n",
       "    .dataframe tbody tr th {\n",
       "        vertical-align: top;\n",
       "    }\n",
       "\n",
       "    .dataframe thead th {\n",
       "        text-align: right;\n",
       "    }\n",
       "</style>\n",
       "<table border=\"1\" class=\"dataframe\">\n",
       "  <thead>\n",
       "    <tr style=\"text-align: right;\">\n",
       "      <th></th>\n",
       "      <th>Player</th>\n",
       "      <th>Team</th>\n",
       "      <th>Salary</th>\n",
       "      <th>Season</th>\n",
       "      <th>Abb</th>\n",
       "      <th>TEAM-SEASON</th>\n",
       "    </tr>\n",
       "  </thead>\n",
       "  <tbody>\n",
       "    <tr>\n",
       "      <th>0</th>\n",
       "      <td>Shaquille O'Neal</td>\n",
       "      <td>Los Angeles Lakers</td>\n",
       "      <td>23571000</td>\n",
       "      <td>2003</td>\n",
       "      <td>LAL</td>\n",
       "      <td>LAL-2003</td>\n",
       "    </tr>\n",
       "    <tr>\n",
       "      <th>1</th>\n",
       "      <td>Juwan Howard</td>\n",
       "      <td>Denver Nuggets</td>\n",
       "      <td>20625000</td>\n",
       "      <td>2003</td>\n",
       "      <td>DEN</td>\n",
       "      <td>DEN-2003</td>\n",
       "    </tr>\n",
       "    <tr>\n",
       "      <th>2</th>\n",
       "      <td>Karl Malone</td>\n",
       "      <td>Utah Jazz</td>\n",
       "      <td>19250000</td>\n",
       "      <td>2003</td>\n",
       "      <td>UTA</td>\n",
       "      <td>UTA-2003</td>\n",
       "    </tr>\n",
       "    <tr>\n",
       "      <th>3</th>\n",
       "      <td>Dikembe Mutombo</td>\n",
       "      <td>New Jersey Nets</td>\n",
       "      <td>16105000</td>\n",
       "      <td>2003</td>\n",
       "      <td>BKN</td>\n",
       "      <td>BKN-2003</td>\n",
       "    </tr>\n",
       "    <tr>\n",
       "      <th>4</th>\n",
       "      <td>Damon Stoudamire</td>\n",
       "      <td>Portland Trail Blazers</td>\n",
       "      <td>13500000</td>\n",
       "      <td>2003</td>\n",
       "      <td>POR</td>\n",
       "      <td>POR-2003</td>\n",
       "    </tr>\n",
       "  </tbody>\n",
       "</table>\n",
       "</div>"
      ],
      "text/plain": [
       "             Player                    Team    Salary  Season  Abb TEAM-SEASON\n",
       "0  Shaquille O'Neal      Los Angeles Lakers  23571000    2003  LAL    LAL-2003\n",
       "1      Juwan Howard          Denver Nuggets  20625000    2003  DEN    DEN-2003\n",
       "2       Karl Malone               Utah Jazz  19250000    2003  UTA    UTA-2003\n",
       "3   Dikembe Mutombo         New Jersey Nets  16105000    2003  BKN    BKN-2003\n",
       "4  Damon Stoudamire  Portland Trail Blazers  13500000    2003  POR    POR-2003"
      ]
     },
     "execution_count": 26,
     "metadata": {},
     "output_type": "execute_result"
    }
   ],
   "source": [
    "individual_salaries.head()"
   ]
  }
 ],
 "metadata": {
  "kernelspec": {
   "display_name": "Python 3 (ipykernel)",
   "language": "python",
   "name": "python3"
  },
  "language_info": {
   "codemirror_mode": {
    "name": "ipython",
    "version": 3
   },
   "file_extension": ".py",
   "mimetype": "text/x-python",
   "name": "python",
   "nbconvert_exporter": "python",
   "pygments_lexer": "ipython3",
   "version": "3.9.12"
  }
 },
 "nbformat": 4,
 "nbformat_minor": 5
}
